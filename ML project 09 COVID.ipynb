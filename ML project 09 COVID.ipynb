{
 "cells": [
  {
   "cell_type": "code",
   "execution_count": 3,
   "id": "0841b8c1",
   "metadata": {},
   "outputs": [],
   "source": [
    "import os\n",
    "import pandas as pd\n",
    "import numpy as np\n",
    "import matplotlib.pyplot as plt\n",
    "import seaborn as sns\n",
    "from sklearn.linear_model import LogisticRegression\n",
    "from sklearn import metrics\n",
    "from sklearn.model_selection import train_test_split, GridSearchCV\n",
    "from sklearn.tree import DecisionTreeClassifier"
   ]
  },
  {
   "cell_type": "code",
   "execution_count": 4,
   "id": "99871072",
   "metadata": {},
   "outputs": [],
   "source": [
    "os.chdir(r\"C:\\Users\\User\\Downloads\\ml\")"
   ]
  },
  {
   "cell_type": "code",
   "execution_count": 3,
   "id": "b43b6f19",
   "metadata": {},
   "outputs": [
    {
     "data": {
      "text/plain": [
       "['1st model.ipynb',\n",
       " '2. Linear Regression (1).pdf',\n",
       " 'Banks_full.csv',\n",
       " 'bank_cleaned.csv',\n",
       " 'covid19_sample.csv',\n",
       " 'Crop_Recommendation_Model.ipynb',\n",
       " 'data',\n",
       " 'DecisionTreeTheory.ipynb',\n",
       " 'Diabatic-checkpoint.ipynb',\n",
       " 'Diabatic.ipynb',\n",
       " 'DiabeticData.zip',\n",
       " 'Ensemble-checkpoint.ipynb',\n",
       " 'Ensemble.ipynb',\n",
       " 'KC house data.ipynb',\n",
       " 'LinearRegressionCarSales.ipynb',\n",
       " 'Loan Data linear reg. SAhil (1) (1).ipynb',\n",
       " 'LogReg_Default.ipynb',\n",
       " 'nyc taxi.ipynb',\n",
       " 'Project 5 car data-checkpoint.ipynb',\n",
       " 'project work.ipynb',\n",
       " 'pyplot.rar',\n",
       " 'sonu Loan Data linear reg. loan data.ipynb',\n",
       " 'yellow_tripdata_2022-06.parquet']"
      ]
     },
     "execution_count": 3,
     "metadata": {},
     "output_type": "execute_result"
    }
   ],
   "source": [
    "os.listdir()"
   ]
  },
  {
   "cell_type": "code",
   "execution_count": 4,
   "id": "921bbd87",
   "metadata": {},
   "outputs": [],
   "source": [
    "df=pd.read_csv('covid19_sample.csv')"
   ]
  },
  {
   "cell_type": "code",
   "execution_count": 5,
   "id": "c263f0d4",
   "metadata": {},
   "outputs": [
    {
     "data": {
      "text/plain": [
       "(184155, 12)"
      ]
     },
     "execution_count": 5,
     "metadata": {},
     "output_type": "execute_result"
    }
   ],
   "source": [
    "df.shape"
   ]
  },
  {
   "cell_type": "code",
   "execution_count": 6,
   "id": "714e4408",
   "metadata": {},
   "outputs": [
    {
     "data": {
      "text/html": [
       "<div>\n",
       "<style scoped>\n",
       "    .dataframe tbody tr th:only-of-type {\n",
       "        vertical-align: middle;\n",
       "    }\n",
       "\n",
       "    .dataframe tbody tr th {\n",
       "        vertical-align: top;\n",
       "    }\n",
       "\n",
       "    .dataframe thead th {\n",
       "        text-align: right;\n",
       "    }\n",
       "</style>\n",
       "<table border=\"1\" class=\"dataframe\">\n",
       "  <thead>\n",
       "    <tr style=\"text-align: right;\">\n",
       "      <th></th>\n",
       "      <th>Unnamed: 0</th>\n",
       "      <th>cdc_report_dt</th>\n",
       "      <th>pos_spec_dt</th>\n",
       "      <th>onset_dt</th>\n",
       "      <th>current_status</th>\n",
       "      <th>sex</th>\n",
       "      <th>age_group</th>\n",
       "      <th>Race and ethnicity (combined)</th>\n",
       "      <th>hosp_yn</th>\n",
       "      <th>icu_yn</th>\n",
       "      <th>death_yn</th>\n",
       "      <th>medcond_yn</th>\n",
       "    </tr>\n",
       "  </thead>\n",
       "  <tbody>\n",
       "    <tr>\n",
       "      <th>0</th>\n",
       "      <td>3517780</td>\n",
       "      <td>2020/07/22</td>\n",
       "      <td>NaN</td>\n",
       "      <td>NaN</td>\n",
       "      <td>Laboratory-confirmed case</td>\n",
       "      <td>Female</td>\n",
       "      <td>70 - 79 Years</td>\n",
       "      <td>White, Non-Hispanic</td>\n",
       "      <td>Yes</td>\n",
       "      <td>Missing</td>\n",
       "      <td>Yes</td>\n",
       "      <td>Missing</td>\n",
       "    </tr>\n",
       "    <tr>\n",
       "      <th>1</th>\n",
       "      <td>3679793</td>\n",
       "      <td>2020/08/07</td>\n",
       "      <td>2020/08/04</td>\n",
       "      <td>NaN</td>\n",
       "      <td>Laboratory-confirmed case</td>\n",
       "      <td>Female</td>\n",
       "      <td>80+ Years</td>\n",
       "      <td>White, Non-Hispanic</td>\n",
       "      <td>Yes</td>\n",
       "      <td>Unknown</td>\n",
       "      <td>Yes</td>\n",
       "      <td>Missing</td>\n",
       "    </tr>\n",
       "    <tr>\n",
       "      <th>2</th>\n",
       "      <td>3331587</td>\n",
       "      <td>2020/03/31</td>\n",
       "      <td>NaN</td>\n",
       "      <td>NaN</td>\n",
       "      <td>Laboratory-confirmed case</td>\n",
       "      <td>Male</td>\n",
       "      <td>70 - 79 Years</td>\n",
       "      <td>White, Non-Hispanic</td>\n",
       "      <td>Yes</td>\n",
       "      <td>No</td>\n",
       "      <td>Yes</td>\n",
       "      <td>Yes</td>\n",
       "    </tr>\n",
       "    <tr>\n",
       "      <th>3</th>\n",
       "      <td>3680266</td>\n",
       "      <td>2020/08/11</td>\n",
       "      <td>2020/08/05</td>\n",
       "      <td>NaN</td>\n",
       "      <td>Laboratory-confirmed case</td>\n",
       "      <td>Female</td>\n",
       "      <td>80+ Years</td>\n",
       "      <td>Black, Non-Hispanic</td>\n",
       "      <td>Yes</td>\n",
       "      <td>Unknown</td>\n",
       "      <td>Yes</td>\n",
       "      <td>Yes</td>\n",
       "    </tr>\n",
       "  </tbody>\n",
       "</table>\n",
       "</div>"
      ],
      "text/plain": [
       "   Unnamed: 0 cdc_report_dt pos_spec_dt onset_dt             current_status  \\\n",
       "0     3517780    2020/07/22         NaN      NaN  Laboratory-confirmed case   \n",
       "1     3679793    2020/08/07  2020/08/04      NaN  Laboratory-confirmed case   \n",
       "2     3331587    2020/03/31         NaN      NaN  Laboratory-confirmed case   \n",
       "3     3680266    2020/08/11  2020/08/05      NaN  Laboratory-confirmed case   \n",
       "\n",
       "      sex      age_group Race and ethnicity (combined) hosp_yn   icu_yn  \\\n",
       "0  Female  70 - 79 Years           White, Non-Hispanic     Yes  Missing   \n",
       "1  Female      80+ Years           White, Non-Hispanic     Yes  Unknown   \n",
       "2    Male  70 - 79 Years           White, Non-Hispanic     Yes       No   \n",
       "3  Female      80+ Years           Black, Non-Hispanic     Yes  Unknown   \n",
       "\n",
       "  death_yn medcond_yn  \n",
       "0      Yes    Missing  \n",
       "1      Yes    Missing  \n",
       "2      Yes        Yes  \n",
       "3      Yes        Yes  "
      ]
     },
     "execution_count": 6,
     "metadata": {},
     "output_type": "execute_result"
    }
   ],
   "source": [
    "df.head(4)"
   ]
  },
  {
   "cell_type": "markdown",
   "id": "ddbebce1",
   "metadata": {},
   "source": [
    "* REMOVING SPECIAL CHARACTER FROM COLUMN NAME"
   ]
  },
  {
   "cell_type": "code",
   "execution_count": 7,
   "id": "53f446df",
   "metadata": {},
   "outputs": [
    {
     "data": {
      "text/plain": [
       "White, Non-Hispanic                                     75938\n",
       "Unknown                                                 39585\n",
       "Hispanic/Latino                                         26330\n",
       "Black, Non-Hispanic                                     22485\n",
       "Multiple/Other, Non-Hispanic                             6902\n",
       "Missing                                                  6789\n",
       "Asian, Non-Hispanic                                      4581\n",
       "American Indian/Alaska Native, Non-Hispanic              1100\n",
       "Native Hawaiian/Other Pacific Islander, Non-Hispanic      444\n",
       "NaN                                                         1\n",
       "Name: Race and ethnicity (combined), dtype: int64"
      ]
     },
     "execution_count": 7,
     "metadata": {},
     "output_type": "execute_result"
    }
   ],
   "source": [
    "df[\"Race and ethnicity (combined)\"].value_counts(dropna=False)"
   ]
  },
  {
   "cell_type": "code",
   "execution_count": 8,
   "id": "caa04179",
   "metadata": {},
   "outputs": [],
   "source": [
    "df.rename(columns={\"Race and ethnicity (combined)\":\"Race_ethnicity\"},inplace=True)\n"
   ]
  },
  {
   "cell_type": "code",
   "execution_count": 9,
   "id": "d773c8c0",
   "metadata": {},
   "outputs": [],
   "source": [
    "df1=pd.get_dummies(data=df,columns=[\"Race_ethnicity\"],drop_first=True)"
   ]
  },
  {
   "cell_type": "code",
   "execution_count": 10,
   "id": "3fb4bd63",
   "metadata": {},
   "outputs": [],
   "source": [
    "df1.columns=df1.columns.str.replace(\" \",\"_\")\n",
    "df1.columns=df1.columns.str.replace(\"-\",\"_\")\n",
    "df1.columns=df1.columns.str.replace(\",\",\"_\")\n",
    "df1.columns=df1.columns.str.replace(\"/\",\"_\")"
   ]
  },
  {
   "cell_type": "markdown",
   "id": "2d049c6f",
   "metadata": {},
   "source": [
    "-----------------------\n",
    "* drop 4 clumns\n",
    "* 'pos_spec_dt','onset_dt' so many missing values are there\n",
    "* day,month,year is extracted from cdc_report_dt\n",
    "-----------------------"
   ]
  },
  {
   "cell_type": "code",
   "execution_count": 11,
   "id": "b06fb635",
   "metadata": {},
   "outputs": [
    {
     "data": {
      "text/plain": [
       "Index(['Unnamed:_0', 'cdc_report_dt', 'pos_spec_dt', 'onset_dt',\n",
       "       'current_status', 'sex', 'age_group', 'hosp_yn', 'icu_yn', 'death_yn',\n",
       "       'medcond_yn', 'Race_ethnicity_Asian__Non_Hispanic',\n",
       "       'Race_ethnicity_Black__Non_Hispanic', 'Race_ethnicity_Hispanic_Latino',\n",
       "       'Race_ethnicity_Missing', 'Race_ethnicity_Multiple_Other__Non_Hispanic',\n",
       "       'Race_ethnicity_Native_Hawaiian_Other_Pacific_Islander__Non_Hispanic',\n",
       "       'Race_ethnicity_Unknown', 'Race_ethnicity_White__Non_Hispanic'],\n",
       "      dtype='object')"
      ]
     },
     "execution_count": 11,
     "metadata": {},
     "output_type": "execute_result"
    }
   ],
   "source": [
    "df1.columns"
   ]
  },
  {
   "cell_type": "code",
   "execution_count": 12,
   "id": "0bd485d9",
   "metadata": {},
   "outputs": [
    {
     "data": {
      "text/plain": [
       "(184155, 19)"
      ]
     },
     "execution_count": 12,
     "metadata": {},
     "output_type": "execute_result"
    }
   ],
   "source": [
    "df1.shape"
   ]
  },
  {
   "cell_type": "code",
   "execution_count": 13,
   "id": "f46c15b9",
   "metadata": {},
   "outputs": [],
   "source": [
    "obj_num=df1.dtypes[df1.dtypes!='object'].index\n",
    "obj_var=df1.dtypes[df1.dtypes=='object'].index"
   ]
  },
  {
   "cell_type": "code",
   "execution_count": 14,
   "id": "e6555b31",
   "metadata": {},
   "outputs": [
    {
     "data": {
      "text/plain": [
       "Female     92108\n",
       "Male       91269\n",
       "Unknown      537\n",
       "Missing      238\n",
       "Other          2\n",
       "NaN            1\n",
       "Name: sex, dtype: int64"
      ]
     },
     "execution_count": 14,
     "metadata": {},
     "output_type": "execute_result"
    }
   ],
   "source": [
    "df1[\"sex\"].value_counts(dropna=False)"
   ]
  },
  {
   "cell_type": "code",
   "execution_count": 15,
   "id": "af3bddef",
   "metadata": {},
   "outputs": [
    {
     "data": {
      "text/plain": [
       "No     110724\n",
       "Yes     73431\n",
       "Name: death_yn, dtype: int64"
      ]
     },
     "execution_count": 15,
     "metadata": {},
     "output_type": "execute_result"
    }
   ],
   "source": [
    "df1[\"death_yn\"].value_counts()"
   ]
  },
  {
   "cell_type": "code",
   "execution_count": 16,
   "id": "8a46a9a6",
   "metadata": {},
   "outputs": [
    {
     "data": {
      "text/plain": [
       "Missing    103731\n",
       "Unknown     42300\n",
       "No          27584\n",
       "Yes         10540\n",
       "Name: icu_yn, dtype: int64"
      ]
     },
     "execution_count": 16,
     "metadata": {},
     "output_type": "execute_result"
    }
   ],
   "source": [
    "df1[\"icu_yn\"].value_counts()"
   ]
  },
  {
   "cell_type": "code",
   "execution_count": 17,
   "id": "c5414812",
   "metadata": {},
   "outputs": [
    {
     "data": {
      "text/plain": [
       "No         91217\n",
       "Yes        53384\n",
       "Unknown    20043\n",
       "Missing    19511\n",
       "Name: hosp_yn, dtype: int64"
      ]
     },
     "execution_count": 17,
     "metadata": {},
     "output_type": "execute_result"
    }
   ],
   "source": [
    "df1[\"hosp_yn\"].value_counts()"
   ]
  },
  {
   "cell_type": "code",
   "execution_count": 18,
   "id": "faff3b49",
   "metadata": {},
   "outputs": [
    {
     "data": {
      "text/plain": [
       "80+ Years        37917\n",
       "70 - 79 Years    24085\n",
       "60 - 69 Years    23112\n",
       "20 - 29 Years    22170\n",
       "50 - 59 Years    21916\n",
       "30 - 39 Years    19374\n",
       "40 - 49 Years    19255\n",
       "10 - 19 Years    11770\n",
       "0 - 9 Years       4413\n",
       "Unknown            139\n",
       "NaN                  4\n",
       "Name: age_group, dtype: int64"
      ]
     },
     "execution_count": 18,
     "metadata": {},
     "output_type": "execute_result"
    }
   ],
   "source": [
    "df1[\"age_group\"].value_counts(dropna=False)"
   ]
  },
  {
   "cell_type": "markdown",
   "id": "6f646133",
   "metadata": {},
   "source": [
    "### EDA"
   ]
  },
  {
   "cell_type": "code",
   "execution_count": 19,
   "id": "2dc98d67",
   "metadata": {},
   "outputs": [],
   "source": [
    "def univariate_cat(data,x):  \n",
    "    missing=data[x].isnull().sum()  \n",
    "    unique_cnt=data[x].nunique()  \n",
    "    unique_cat=list(data[x].unique())  \n",
    "    f1=pd.DataFrame(data[x].value_counts(dropna=False))  \n",
    "    f1.rename(columns={x:'count'},inplace=True)  \n",
    "    f2=pd.DataFrame(data[x].value_counts(normalize=True))  \n",
    "    f2.rename(columns={x:'percentage'},inplace=True)  \n",
    "    f2['percentage']=(f2['percentage']*100).round(2).astype(str)+'%'  \n",
    "    ff=pd.concat([f1,f2],axis=1)  \n",
    "    print(f\"Total missing values : {missing}\\n\")  \n",
    "    print(f\"Total count of unique categories: {unique_cnt}\\n\")  \n",
    "    print(f\"Unique categories :\\n{unique_cat}\")  \n",
    "    print(f'Value count and %\\n:',ff) \n",
    "    sns.countplot(data=data,x=x) \n",
    "    plt.show()"
   ]
  },
  {
   "cell_type": "code",
   "execution_count": 20,
   "id": "593de8e0",
   "metadata": {},
   "outputs": [
    {
     "name": "stdout",
     "output_type": "stream",
     "text": [
      "Total missing values : 0\n",
      "\n",
      "Total count of unique categories: 2\n",
      "\n",
      "Unique categories :\n",
      "['Laboratory-confirmed case', 'Probable Case']\n",
      "Value count and %\n",
      ":                             count percentage\n",
      "Laboratory-confirmed case  173359     94.14%\n",
      "Probable Case               10796      5.86%\n"
     ]
    },
    {
     "data": {
      "image/png": "[encoded data removed]",
      "text/plain": [
       "<Figure size 432x288 with 1 Axes>"
      ]
     },
     "metadata": {
      "needs_background": "light"
     },
     "output_type": "display_data"
    }
   ],
   "source": [
    "univariate_cat(data= df1, x=\"current_status\")"
   ]
  },
  {
   "cell_type": "markdown",
   "id": "0bc0f70f",
   "metadata": {},
   "source": [
    "* combine missing and other"
   ]
  },
  {
   "cell_type": "code",
   "execution_count": 21,
   "id": "a8884092",
   "metadata": {},
   "outputs": [],
   "source": [
    "df1[\"sex\"]=df1[\"sex\"].replace([\"Unknown\",\"Missing\",\"Other\"],\"other\")\n",
    "df1[\"sex\"]=df1[\"sex\"].fillna(\"other\")"
   ]
  },
  {
   "cell_type": "code",
   "execution_count": 22,
   "id": "dc96740c",
   "metadata": {},
   "outputs": [
    {
     "name": "stdout",
     "output_type": "stream",
     "text": [
      "Total missing values : 0\n",
      "\n",
      "Total count of unique categories: 3\n",
      "\n",
      "Unique categories :\n",
      "['Female', 'Male', 'other']\n",
      "Value count and %\n",
      ":         count percentage\n",
      "Female  92108     50.02%\n",
      "Male    91269     49.56%\n",
      "other     778      0.42%\n"
     ]
    },
    {
     "data": {
      "image/png": "[encoded data removed]",
      "text/plain": [
       "<Figure size 432x288 with 1 Axes>"
      ]
     },
     "metadata": {
      "needs_background": "light"
     },
     "output_type": "display_data"
    }
   ],
   "source": [
    "univariate_cat(data= df1, x=\"sex\")"
   ]
  },
  {
   "cell_type": "markdown",
   "id": "db75f7a7",
   "metadata": {},
   "source": [
    "* combine 9 cat into 5 and fill missing value with unknown"
   ]
  },
  {
   "cell_type": "code",
   "execution_count": 23,
   "id": "79397724",
   "metadata": {},
   "outputs": [],
   "source": [
    "df1[\"age_group\"]=df1[\"age_group\"].replace([\"0 - 9 Years\",\"10 - 19 Years\"],\"0-19\")\n",
    "df1[\"age_group\"]=df1[\"age_group\"].replace([\"20 - 29 Years\",\"30 - 39 Years\"],\"20-39\")\n",
    "df1[\"age_group\"]=df1[\"age_group\"].replace([\"40 - 49 Years\",\"50 - 59 Years\"],\"40-59\")\n",
    "df1[\"age_group\"]=df1[\"age_group\"].replace([\"60 - 69 Years\",\"70 - 79 Years\"],\"60-79\")\n",
    "df1[\"age_group\"]=df1[\"age_group\"].replace([\"80+ years\"],\"senior citizen\")\n",
    "df1[\"age_group\"]=df1[\"age_group\"].replace([\"Unknown\"],\"Unknown\")\n",
    "df1[\"age_group\"]=df1[\"age_group\"].fillna(\"unknown\")"
   ]
  },
  {
   "cell_type": "code",
   "execution_count": 24,
   "id": "f7a1b5c7",
   "metadata": {},
   "outputs": [
    {
     "name": "stdout",
     "output_type": "stream",
     "text": [
      "Total missing values : 0\n",
      "\n",
      "Total count of unique categories: 7\n",
      "\n",
      "Unique categories :\n",
      "['60-79', '80+ Years', '40-59', '20-39', '0-19', 'Unknown', 'unknown']\n",
      "Value count and %\n",
      ":            count percentage\n",
      "60-79      47197     25.63%\n",
      "20-39      41544     22.56%\n",
      "40-59      41171     22.36%\n",
      "80+ Years  37917     20.59%\n",
      "0-19       16183      8.79%\n",
      "Unknown      139      0.08%\n",
      "unknown        4       0.0%\n"
     ]
    },
    {
     "data": {
      "image/png": "[encoded data removed]",
      "text/plain": [
       "<Figure size 432x288 with 1 Axes>"
      ]
     },
     "metadata": {
      "needs_background": "light"
     },
     "output_type": "display_data"
    }
   ],
   "source": [
    "univariate_cat(data= df1, x=\"age_group\")"
   ]
  },
  {
   "cell_type": "markdown",
   "id": "e13ee607",
   "metadata": {},
   "source": [
    "* combine missing and unknown"
   ]
  },
  {
   "cell_type": "code",
   "execution_count": 25,
   "id": "29498120",
   "metadata": {},
   "outputs": [
    {
     "name": "stdout",
     "output_type": "stream",
     "text": [
      "Total missing values : 0\n",
      "\n",
      "Total count of unique categories: 3\n",
      "\n",
      "Unique categories :\n",
      "['Yes', 'Unknown', 'No']\n",
      "Value count and %\n",
      ":          count percentage\n",
      "No       91217     49.53%\n",
      "Yes      53384     28.99%\n",
      "Unknown  39554     21.48%\n"
     ]
    },
    {
     "data": {
      "image/png": "[encoded data removed]",
      "text/plain": [
       "<Figure size 432x288 with 1 Axes>"
      ]
     },
     "metadata": {
      "needs_background": "light"
     },
     "output_type": "display_data"
    }
   ],
   "source": [
    "df1['hosp_yn']=df1['hosp_yn'].replace(['Missing'],'Unknown')\n",
    "univariate_cat(data= df1, x='hosp_yn')"
   ]
  },
  {
   "cell_type": "markdown",
   "id": "5104f2d2",
   "metadata": {},
   "source": [
    "* combine missing and unknown"
   ]
  },
  {
   "cell_type": "code",
   "execution_count": 26,
   "id": "6b7009dc",
   "metadata": {},
   "outputs": [
    {
     "name": "stdout",
     "output_type": "stream",
     "text": [
      "Total missing values : 0\n",
      "\n",
      "Total count of unique categories: 3\n",
      "\n",
      "Unique categories :\n",
      "['Unknown', 'No', 'Yes']\n",
      "Value count and %\n",
      ":           count percentage\n",
      "Unknown  146031      79.3%\n",
      "No        27584     14.98%\n",
      "Yes       10540      5.72%\n"
     ]
    },
    {
     "data": {
      "image/png": "[encoded data removed]",
      "text/plain": [
       "<Figure size 432x288 with 1 Axes>"
      ]
     },
     "metadata": {
      "needs_background": "light"
     },
     "output_type": "display_data"
    }
   ],
   "source": [
    "df1['icu_yn']=df1['icu_yn'].replace(['Missing'],'Unknown')\n",
    "univariate_cat(data= df1, x='icu_yn')"
   ]
  },
  {
   "cell_type": "code",
   "execution_count": 27,
   "id": "ea2f3529",
   "metadata": {},
   "outputs": [
    {
     "name": "stdout",
     "output_type": "stream",
     "text": [
      "Total missing values : 0\n",
      "\n",
      "Total count of unique categories: 2\n",
      "\n",
      "Unique categories :\n",
      "['Yes', 'No']\n",
      "Value count and %\n",
      ":       count percentage\n",
      "No   110724     60.13%\n",
      "Yes   73431     39.87%\n"
     ]
    },
    {
     "data": {
      "image/png": "[encoded data removed]",
      "text/plain": [
       "<Figure size 432x288 with 1 Axes>"
      ]
     },
     "metadata": {
      "needs_background": "light"
     },
     "output_type": "display_data"
    }
   ],
   "source": [
    "univariate_cat(data= df1, x='death_yn')"
   ]
  },
  {
   "cell_type": "markdown",
   "id": "cebee975",
   "metadata": {},
   "source": [
    "* combine missing with unknown"
   ]
  },
  {
   "cell_type": "code",
   "execution_count": 28,
   "id": "ec81ed8d",
   "metadata": {},
   "outputs": [
    {
     "name": "stdout",
     "output_type": "stream",
     "text": [
      "Total missing values : 0\n",
      "\n",
      "Total count of unique categories: 3\n",
      "\n",
      "Unique categories :\n",
      "['Unknown', 'Yes', 'No']\n",
      "Value count and %\n",
      ":           count percentage\n",
      "Unknown  123326     66.97%\n",
      "Yes       42408     23.03%\n",
      "No        18421      10.0%\n"
     ]
    },
    {
     "data": {
      "image/png": "[encoded data removed]",
      "text/plain": [
       "<Figure size 432x288 with 1 Axes>"
      ]
     },
     "metadata": {
      "needs_background": "light"
     },
     "output_type": "display_data"
    }
   ],
   "source": [
    "df1['medcond_yn']=df1['medcond_yn'].replace(['Missing'],'Unknown')\n",
    "univariate_cat(data= df1, x='medcond_yn')"
   ]
  },
  {
   "cell_type": "markdown",
   "id": "fbaaa815",
   "metadata": {},
   "source": [
    "* change date format of date column and extract day,month,year"
   ]
  },
  {
   "cell_type": "code",
   "execution_count": 29,
   "id": "bcf95632",
   "metadata": {},
   "outputs": [],
   "source": [
    "def date_format(data, x:str):\n",
    "    x_type=data[x].dtype\n",
    "    if isinstance(x_type, pd.core.dtypes.dtypes.DatetimeTZDtype):\n",
    "        x_type=np.datetime64\n",
    "    if not np.issubdtype(x_type,np.datetime64):\n",
    "        data[x]=pd.to_datetime(data[x], infer_datetime_format=True)"
   ]
  },
  {
   "cell_type": "code",
   "execution_count": 30,
   "id": "6560758a",
   "metadata": {},
   "outputs": [],
   "source": [
    "date_format(data=df1,x='cdc_report_dt')"
   ]
  },
  {
   "cell_type": "code",
   "execution_count": 31,
   "id": "670bdb05",
   "metadata": {},
   "outputs": [
    {
     "data": {
      "text/plain": [
       "dtype('<M8[ns]')"
      ]
     },
     "execution_count": 31,
     "metadata": {},
     "output_type": "execute_result"
    }
   ],
   "source": [
    "df1['cdc_report_dt'].dtypes"
   ]
  },
  {
   "cell_type": "code",
   "execution_count": 32,
   "id": "d58e6e81",
   "metadata": {},
   "outputs": [
    {
     "data": {
      "text/plain": [
       "Timestamp('2020-01-01 00:00:00')"
      ]
     },
     "execution_count": 32,
     "metadata": {},
     "output_type": "execute_result"
    }
   ],
   "source": [
    "df1[\"cdc_report_dt\"].min()"
   ]
  },
  {
   "cell_type": "code",
   "execution_count": 33,
   "id": "f915f7b1",
   "metadata": {},
   "outputs": [
    {
     "data": {
      "text/plain": [
       "Timestamp('2020-11-19 00:00:00')"
      ]
     },
     "execution_count": 33,
     "metadata": {},
     "output_type": "execute_result"
    }
   ],
   "source": [
    "df1[\"cdc_report_dt\"].max()"
   ]
  },
  {
   "cell_type": "code",
   "execution_count": 34,
   "id": "04238ce6",
   "metadata": {},
   "outputs": [],
   "source": [
    "df1[\"month\"]=df1[\"cdc_report_dt\"].dt.month\n",
    "df1[\"day\"]=df1[\"cdc_report_dt\"].dt.day\n",
    "df1[\"year\"]=df1[\"cdc_report_dt\"].dt.year"
   ]
  },
  {
   "cell_type": "code",
   "execution_count": 35,
   "id": "9175b804",
   "metadata": {},
   "outputs": [
    {
     "data": {
      "text/plain": [
       "6     27973\n",
       "10    25274\n",
       "11    24463\n",
       "7     22130\n",
       "4     21744\n",
       "8     20218\n",
       "9     19368\n",
       "5     17499\n",
       "3      5446\n",
       "2        31\n",
       "1         9\n",
       "Name: month, dtype: int64"
      ]
     },
     "execution_count": 35,
     "metadata": {},
     "output_type": "execute_result"
    }
   ],
   "source": [
    "df1[\"month\"].value_counts()"
   ]
  },
  {
   "cell_type": "code",
   "execution_count": 36,
   "id": "b3bfba44",
   "metadata": {},
   "outputs": [
    {
     "data": {
      "text/plain": [
       "10    14240\n",
       "24     8581\n",
       "13     7563\n",
       "26     7307\n",
       "19     7166\n",
       "5      6925\n",
       "17     6659\n",
       "21     6499\n",
       "18     6462\n",
       "20     6399\n",
       "14     6384\n",
       "16     5989\n",
       "27     5737\n",
       "15     5693\n",
       "12     5564\n",
       "28     5457\n",
       "7      5438\n",
       "9      5323\n",
       "29     5222\n",
       "4      5158\n",
       "1      5145\n",
       "11     5082\n",
       "2      5068\n",
       "3      4821\n",
       "6      4738\n",
       "8      4721\n",
       "30     4563\n",
       "23     4384\n",
       "22     4174\n",
       "25     4144\n",
       "31     3549\n",
       "Name: day, dtype: int64"
      ]
     },
     "execution_count": 36,
     "metadata": {},
     "output_type": "execute_result"
    }
   ],
   "source": [
    "df1[\"day\"].value_counts()"
   ]
  },
  {
   "cell_type": "code",
   "execution_count": 37,
   "id": "3e580180",
   "metadata": {},
   "outputs": [
    {
     "data": {
      "text/plain": [
       "2020    184155\n",
       "Name: year, dtype: int64"
      ]
     },
     "execution_count": 37,
     "metadata": {},
     "output_type": "execute_result"
    }
   ],
   "source": [
    "df1[\"year\"].value_counts()"
   ]
  },
  {
   "cell_type": "code",
   "execution_count": 38,
   "id": "2274e9f6",
   "metadata": {},
   "outputs": [],
   "source": [
    "df1.drop(columns=['Unnamed:_0','pos_spec_dt','onset_dt','cdc_report_dt'],inplace=True)"
   ]
  },
  {
   "cell_type": "markdown",
   "id": "4c46628e",
   "metadata": {},
   "source": [
    "* no missing value"
   ]
  },
  {
   "cell_type": "code",
   "execution_count": 39,
   "id": "948fe9bf",
   "metadata": {},
   "outputs": [
    {
     "data": {
      "text/plain": [
       "current_status                                                         0\n",
       "sex                                                                    0\n",
       "age_group                                                              0\n",
       "hosp_yn                                                                0\n",
       "icu_yn                                                                 0\n",
       "death_yn                                                               0\n",
       "medcond_yn                                                             0\n",
       "Race_ethnicity_Asian__Non_Hispanic                                     0\n",
       "Race_ethnicity_Black__Non_Hispanic                                     0\n",
       "Race_ethnicity_Hispanic_Latino                                         0\n",
       "Race_ethnicity_Missing                                                 0\n",
       "Race_ethnicity_Multiple_Other__Non_Hispanic                            0\n",
       "Race_ethnicity_Native_Hawaiian_Other_Pacific_Islander__Non_Hispanic    0\n",
       "Race_ethnicity_Unknown                                                 0\n",
       "Race_ethnicity_White__Non_Hispanic                                     0\n",
       "month                                                                  0\n",
       "day                                                                    0\n",
       "year                                                                   0\n",
       "dtype: int64"
      ]
     },
     "execution_count": 39,
     "metadata": {},
     "output_type": "execute_result"
    }
   ],
   "source": [
    "df1.isnull().sum()"
   ]
  },
  {
   "cell_type": "markdown",
   "id": "2576e011",
   "metadata": {},
   "source": [
    "* no outliers"
   ]
  },
  {
   "cell_type": "code",
   "execution_count": 40,
   "id": "091732c9",
   "metadata": {},
   "outputs": [
    {
     "data": {
      "text/html": [
       "<div>\n",
       "<style scoped>\n",
       "    .dataframe tbody tr th:only-of-type {\n",
       "        vertical-align: middle;\n",
       "    }\n",
       "\n",
       "    .dataframe tbody tr th {\n",
       "        vertical-align: top;\n",
       "    }\n",
       "\n",
       "    .dataframe thead th {\n",
       "        text-align: right;\n",
       "    }\n",
       "</style>\n",
       "<table border=\"1\" class=\"dataframe\">\n",
       "  <thead>\n",
       "    <tr style=\"text-align: right;\">\n",
       "      <th></th>\n",
       "      <th>count</th>\n",
       "      <th>mean</th>\n",
       "      <th>std</th>\n",
       "      <th>min</th>\n",
       "      <th>1%</th>\n",
       "      <th>2%</th>\n",
       "      <th>3%</th>\n",
       "      <th>4%</th>\n",
       "      <th>5%</th>\n",
       "      <th>25%</th>\n",
       "      <th>50%</th>\n",
       "      <th>75%</th>\n",
       "      <th>90%</th>\n",
       "      <th>95%</th>\n",
       "      <th>96%</th>\n",
       "      <th>97%</th>\n",
       "      <th>98%</th>\n",
       "      <th>99%</th>\n",
       "      <th>max</th>\n",
       "    </tr>\n",
       "  </thead>\n",
       "  <tbody>\n",
       "    <tr>\n",
       "      <th>Race_ethnicity_Asian__Non_Hispanic</th>\n",
       "      <td>184155.0</td>\n",
       "      <td>0.024876</td>\n",
       "      <td>0.155747</td>\n",
       "      <td>0.0</td>\n",
       "      <td>0.0</td>\n",
       "      <td>0.0</td>\n",
       "      <td>0.0</td>\n",
       "      <td>0.0</td>\n",
       "      <td>0.0</td>\n",
       "      <td>0.0</td>\n",
       "      <td>0.0</td>\n",
       "      <td>0.0</td>\n",
       "      <td>0.0</td>\n",
       "      <td>0.0</td>\n",
       "      <td>0.0</td>\n",
       "      <td>0.0</td>\n",
       "      <td>1.0</td>\n",
       "      <td>1.0</td>\n",
       "      <td>1.0</td>\n",
       "    </tr>\n",
       "    <tr>\n",
       "      <th>Race_ethnicity_Black__Non_Hispanic</th>\n",
       "      <td>184155.0</td>\n",
       "      <td>0.122098</td>\n",
       "      <td>0.327400</td>\n",
       "      <td>0.0</td>\n",
       "      <td>0.0</td>\n",
       "      <td>0.0</td>\n",
       "      <td>0.0</td>\n",
       "      <td>0.0</td>\n",
       "      <td>0.0</td>\n",
       "      <td>0.0</td>\n",
       "      <td>0.0</td>\n",
       "      <td>0.0</td>\n",
       "      <td>1.0</td>\n",
       "      <td>1.0</td>\n",
       "      <td>1.0</td>\n",
       "      <td>1.0</td>\n",
       "      <td>1.0</td>\n",
       "      <td>1.0</td>\n",
       "      <td>1.0</td>\n",
       "    </tr>\n",
       "    <tr>\n",
       "      <th>Race_ethnicity_Hispanic_Latino</th>\n",
       "      <td>184155.0</td>\n",
       "      <td>0.142977</td>\n",
       "      <td>0.350051</td>\n",
       "      <td>0.0</td>\n",
       "      <td>0.0</td>\n",
       "      <td>0.0</td>\n",
       "      <td>0.0</td>\n",
       "      <td>0.0</td>\n",
       "      <td>0.0</td>\n",
       "      <td>0.0</td>\n",
       "      <td>0.0</td>\n",
       "      <td>0.0</td>\n",
       "      <td>1.0</td>\n",
       "      <td>1.0</td>\n",
       "      <td>1.0</td>\n",
       "      <td>1.0</td>\n",
       "      <td>1.0</td>\n",
       "      <td>1.0</td>\n",
       "      <td>1.0</td>\n",
       "    </tr>\n",
       "    <tr>\n",
       "      <th>Race_ethnicity_Missing</th>\n",
       "      <td>184155.0</td>\n",
       "      <td>0.036866</td>\n",
       "      <td>0.188432</td>\n",
       "      <td>0.0</td>\n",
       "      <td>0.0</td>\n",
       "      <td>0.0</td>\n",
       "      <td>0.0</td>\n",
       "      <td>0.0</td>\n",
       "      <td>0.0</td>\n",
       "      <td>0.0</td>\n",
       "      <td>0.0</td>\n",
       "      <td>0.0</td>\n",
       "      <td>0.0</td>\n",
       "      <td>0.0</td>\n",
       "      <td>0.0</td>\n",
       "      <td>1.0</td>\n",
       "      <td>1.0</td>\n",
       "      <td>1.0</td>\n",
       "      <td>1.0</td>\n",
       "    </tr>\n",
       "    <tr>\n",
       "      <th>Race_ethnicity_Multiple_Other__Non_Hispanic</th>\n",
       "      <td>184155.0</td>\n",
       "      <td>0.037479</td>\n",
       "      <td>0.189934</td>\n",
       "      <td>0.0</td>\n",
       "      <td>0.0</td>\n",
       "      <td>0.0</td>\n",
       "      <td>0.0</td>\n",
       "      <td>0.0</td>\n",
       "      <td>0.0</td>\n",
       "      <td>0.0</td>\n",
       "      <td>0.0</td>\n",
       "      <td>0.0</td>\n",
       "      <td>0.0</td>\n",
       "      <td>0.0</td>\n",
       "      <td>0.0</td>\n",
       "      <td>1.0</td>\n",
       "      <td>1.0</td>\n",
       "      <td>1.0</td>\n",
       "      <td>1.0</td>\n",
       "    </tr>\n",
       "    <tr>\n",
       "      <th>Race_ethnicity_Native_Hawaiian_Other_Pacific_Islander__Non_Hispanic</th>\n",
       "      <td>184155.0</td>\n",
       "      <td>0.002411</td>\n",
       "      <td>0.049043</td>\n",
       "      <td>0.0</td>\n",
       "      <td>0.0</td>\n",
       "      <td>0.0</td>\n",
       "      <td>0.0</td>\n",
       "      <td>0.0</td>\n",
       "      <td>0.0</td>\n",
       "      <td>0.0</td>\n",
       "      <td>0.0</td>\n",
       "      <td>0.0</td>\n",
       "      <td>0.0</td>\n",
       "      <td>0.0</td>\n",
       "      <td>0.0</td>\n",
       "      <td>0.0</td>\n",
       "      <td>0.0</td>\n",
       "      <td>0.0</td>\n",
       "      <td>1.0</td>\n",
       "    </tr>\n",
       "    <tr>\n",
       "      <th>Race_ethnicity_Unknown</th>\n",
       "      <td>184155.0</td>\n",
       "      <td>0.214955</td>\n",
       "      <td>0.410792</td>\n",
       "      <td>0.0</td>\n",
       "      <td>0.0</td>\n",
       "      <td>0.0</td>\n",
       "      <td>0.0</td>\n",
       "      <td>0.0</td>\n",
       "      <td>0.0</td>\n",
       "      <td>0.0</td>\n",
       "      <td>0.0</td>\n",
       "      <td>0.0</td>\n",
       "      <td>1.0</td>\n",
       "      <td>1.0</td>\n",
       "      <td>1.0</td>\n",
       "      <td>1.0</td>\n",
       "      <td>1.0</td>\n",
       "      <td>1.0</td>\n",
       "      <td>1.0</td>\n",
       "    </tr>\n",
       "    <tr>\n",
       "      <th>Race_ethnicity_White__Non_Hispanic</th>\n",
       "      <td>184155.0</td>\n",
       "      <td>0.412359</td>\n",
       "      <td>0.492260</td>\n",
       "      <td>0.0</td>\n",
       "      <td>0.0</td>\n",
       "      <td>0.0</td>\n",
       "      <td>0.0</td>\n",
       "      <td>0.0</td>\n",
       "      <td>0.0</td>\n",
       "      <td>0.0</td>\n",
       "      <td>0.0</td>\n",
       "      <td>1.0</td>\n",
       "      <td>1.0</td>\n",
       "      <td>1.0</td>\n",
       "      <td>1.0</td>\n",
       "      <td>1.0</td>\n",
       "      <td>1.0</td>\n",
       "      <td>1.0</td>\n",
       "      <td>1.0</td>\n",
       "    </tr>\n",
       "    <tr>\n",
       "      <th>month</th>\n",
       "      <td>184155.0</td>\n",
       "      <td>7.447623</td>\n",
       "      <td>2.400948</td>\n",
       "      <td>1.0</td>\n",
       "      <td>3.0</td>\n",
       "      <td>3.0</td>\n",
       "      <td>4.0</td>\n",
       "      <td>4.0</td>\n",
       "      <td>4.0</td>\n",
       "      <td>6.0</td>\n",
       "      <td>7.0</td>\n",
       "      <td>10.0</td>\n",
       "      <td>11.0</td>\n",
       "      <td>11.0</td>\n",
       "      <td>11.0</td>\n",
       "      <td>11.0</td>\n",
       "      <td>11.0</td>\n",
       "      <td>11.0</td>\n",
       "      <td>11.0</td>\n",
       "    </tr>\n",
       "    <tr>\n",
       "      <th>day</th>\n",
       "      <td>184155.0</td>\n",
       "      <td>15.744965</td>\n",
       "      <td>8.478379</td>\n",
       "      <td>1.0</td>\n",
       "      <td>1.0</td>\n",
       "      <td>1.0</td>\n",
       "      <td>2.0</td>\n",
       "      <td>2.0</td>\n",
       "      <td>2.0</td>\n",
       "      <td>9.0</td>\n",
       "      <td>16.0</td>\n",
       "      <td>23.0</td>\n",
       "      <td>28.0</td>\n",
       "      <td>29.0</td>\n",
       "      <td>30.0</td>\n",
       "      <td>30.0</td>\n",
       "      <td>30.0</td>\n",
       "      <td>31.0</td>\n",
       "      <td>31.0</td>\n",
       "    </tr>\n",
       "    <tr>\n",
       "      <th>year</th>\n",
       "      <td>184155.0</td>\n",
       "      <td>2020.000000</td>\n",
       "      <td>0.000000</td>\n",
       "      <td>2020.0</td>\n",
       "      <td>2020.0</td>\n",
       "      <td>2020.0</td>\n",
       "      <td>2020.0</td>\n",
       "      <td>2020.0</td>\n",
       "      <td>2020.0</td>\n",
       "      <td>2020.0</td>\n",
       "      <td>2020.0</td>\n",
       "      <td>2020.0</td>\n",
       "      <td>2020.0</td>\n",
       "      <td>2020.0</td>\n",
       "      <td>2020.0</td>\n",
       "      <td>2020.0</td>\n",
       "      <td>2020.0</td>\n",
       "      <td>2020.0</td>\n",
       "      <td>2020.0</td>\n",
       "    </tr>\n",
       "  </tbody>\n",
       "</table>\n",
       "</div>"
      ],
      "text/plain": [
       "                                                       count         mean  \\\n",
       "Race_ethnicity_Asian__Non_Hispanic                  184155.0     0.024876   \n",
       "Race_ethnicity_Black__Non_Hispanic                  184155.0     0.122098   \n",
       "Race_ethnicity_Hispanic_Latino                      184155.0     0.142977   \n",
       "Race_ethnicity_Missing                              184155.0     0.036866   \n",
       "Race_ethnicity_Multiple_Other__Non_Hispanic         184155.0     0.037479   \n",
       "Race_ethnicity_Native_Hawaiian_Other_Pacific_Is...  184155.0     0.002411   \n",
       "Race_ethnicity_Unknown                              184155.0     0.214955   \n",
       "Race_ethnicity_White__Non_Hispanic                  184155.0     0.412359   \n",
       "month                                               184155.0     7.447623   \n",
       "day                                                 184155.0    15.744965   \n",
       "year                                                184155.0  2020.000000   \n",
       "\n",
       "                                                         std     min      1%  \\\n",
       "Race_ethnicity_Asian__Non_Hispanic                  0.155747     0.0     0.0   \n",
       "Race_ethnicity_Black__Non_Hispanic                  0.327400     0.0     0.0   \n",
       "Race_ethnicity_Hispanic_Latino                      0.350051     0.0     0.0   \n",
       "Race_ethnicity_Missing                              0.188432     0.0     0.0   \n",
       "Race_ethnicity_Multiple_Other__Non_Hispanic         0.189934     0.0     0.0   \n",
       "Race_ethnicity_Native_Hawaiian_Other_Pacific_Is...  0.049043     0.0     0.0   \n",
       "Race_ethnicity_Unknown                              0.410792     0.0     0.0   \n",
       "Race_ethnicity_White__Non_Hispanic                  0.492260     0.0     0.0   \n",
       "month                                               2.400948     1.0     3.0   \n",
       "day                                                 8.478379     1.0     1.0   \n",
       "year                                                0.000000  2020.0  2020.0   \n",
       "\n",
       "                                                        2%      3%      4%  \\\n",
       "Race_ethnicity_Asian__Non_Hispanic                     0.0     0.0     0.0   \n",
       "Race_ethnicity_Black__Non_Hispanic                     0.0     0.0     0.0   \n",
       "Race_ethnicity_Hispanic_Latino                         0.0     0.0     0.0   \n",
       "Race_ethnicity_Missing                                 0.0     0.0     0.0   \n",
       "Race_ethnicity_Multiple_Other__Non_Hispanic            0.0     0.0     0.0   \n",
       "Race_ethnicity_Native_Hawaiian_Other_Pacific_Is...     0.0     0.0     0.0   \n",
       "Race_ethnicity_Unknown                                 0.0     0.0     0.0   \n",
       "Race_ethnicity_White__Non_Hispanic                     0.0     0.0     0.0   \n",
       "month                                                  3.0     4.0     4.0   \n",
       "day                                                    1.0     2.0     2.0   \n",
       "year                                                2020.0  2020.0  2020.0   \n",
       "\n",
       "                                                        5%     25%     50%  \\\n",
       "Race_ethnicity_Asian__Non_Hispanic                     0.0     0.0     0.0   \n",
       "Race_ethnicity_Black__Non_Hispanic                     0.0     0.0     0.0   \n",
       "Race_ethnicity_Hispanic_Latino                         0.0     0.0     0.0   \n",
       "Race_ethnicity_Missing                                 0.0     0.0     0.0   \n",
       "Race_ethnicity_Multiple_Other__Non_Hispanic            0.0     0.0     0.0   \n",
       "Race_ethnicity_Native_Hawaiian_Other_Pacific_Is...     0.0     0.0     0.0   \n",
       "Race_ethnicity_Unknown                                 0.0     0.0     0.0   \n",
       "Race_ethnicity_White__Non_Hispanic                     0.0     0.0     0.0   \n",
       "month                                                  4.0     6.0     7.0   \n",
       "day                                                    2.0     9.0    16.0   \n",
       "year                                                2020.0  2020.0  2020.0   \n",
       "\n",
       "                                                       75%     90%     95%  \\\n",
       "Race_ethnicity_Asian__Non_Hispanic                     0.0     0.0     0.0   \n",
       "Race_ethnicity_Black__Non_Hispanic                     0.0     1.0     1.0   \n",
       "Race_ethnicity_Hispanic_Latino                         0.0     1.0     1.0   \n",
       "Race_ethnicity_Missing                                 0.0     0.0     0.0   \n",
       "Race_ethnicity_Multiple_Other__Non_Hispanic            0.0     0.0     0.0   \n",
       "Race_ethnicity_Native_Hawaiian_Other_Pacific_Is...     0.0     0.0     0.0   \n",
       "Race_ethnicity_Unknown                                 0.0     1.0     1.0   \n",
       "Race_ethnicity_White__Non_Hispanic                     1.0     1.0     1.0   \n",
       "month                                                 10.0    11.0    11.0   \n",
       "day                                                   23.0    28.0    29.0   \n",
       "year                                                2020.0  2020.0  2020.0   \n",
       "\n",
       "                                                       96%     97%     98%  \\\n",
       "Race_ethnicity_Asian__Non_Hispanic                     0.0     0.0     1.0   \n",
       "Race_ethnicity_Black__Non_Hispanic                     1.0     1.0     1.0   \n",
       "Race_ethnicity_Hispanic_Latino                         1.0     1.0     1.0   \n",
       "Race_ethnicity_Missing                                 0.0     1.0     1.0   \n",
       "Race_ethnicity_Multiple_Other__Non_Hispanic            0.0     1.0     1.0   \n",
       "Race_ethnicity_Native_Hawaiian_Other_Pacific_Is...     0.0     0.0     0.0   \n",
       "Race_ethnicity_Unknown                                 1.0     1.0     1.0   \n",
       "Race_ethnicity_White__Non_Hispanic                     1.0     1.0     1.0   \n",
       "month                                                 11.0    11.0    11.0   \n",
       "day                                                   30.0    30.0    30.0   \n",
       "year                                                2020.0  2020.0  2020.0   \n",
       "\n",
       "                                                       99%     max  \n",
       "Race_ethnicity_Asian__Non_Hispanic                     1.0     1.0  \n",
       "Race_ethnicity_Black__Non_Hispanic                     1.0     1.0  \n",
       "Race_ethnicity_Hispanic_Latino                         1.0     1.0  \n",
       "Race_ethnicity_Missing                                 1.0     1.0  \n",
       "Race_ethnicity_Multiple_Other__Non_Hispanic            1.0     1.0  \n",
       "Race_ethnicity_Native_Hawaiian_Other_Pacific_Is...     0.0     1.0  \n",
       "Race_ethnicity_Unknown                                 1.0     1.0  \n",
       "Race_ethnicity_White__Non_Hispanic                     1.0     1.0  \n",
       "month                                                 11.0    11.0  \n",
       "day                                                   31.0    31.0  \n",
       "year                                                2020.0  2020.0  "
      ]
     },
     "execution_count": 40,
     "metadata": {},
     "output_type": "execute_result"
    }
   ],
   "source": [
    "df1.describe(percentiles=[.01,.02,.03,.04,.05,.25,.5,.75,.9,.95,.96,.97,.98,.99]).T"
   ]
  },
  {
   "cell_type": "markdown",
   "id": "c890db12",
   "metadata": {},
   "source": [
    "### bivariate analysis\n",
    " * cat-cat"
   ]
  },
  {
   "cell_type": "code",
   "execution_count": 41,
   "id": "41021f6e",
   "metadata": {},
   "outputs": [
    {
     "data": {
      "text/html": [
       "<div>\n",
       "<style scoped>\n",
       "    .dataframe tbody tr th:only-of-type {\n",
       "        vertical-align: middle;\n",
       "    }\n",
       "\n",
       "    .dataframe tbody tr th {\n",
       "        vertical-align: top;\n",
       "    }\n",
       "\n",
       "    .dataframe thead th {\n",
       "        text-align: right;\n",
       "    }\n",
       "</style>\n",
       "<table border=\"1\" class=\"dataframe\">\n",
       "  <thead>\n",
       "    <tr style=\"text-align: right;\">\n",
       "      <th>death_yn</th>\n",
       "      <th>No</th>\n",
       "      <th>Yes</th>\n",
       "    </tr>\n",
       "    <tr>\n",
       "      <th>icu_yn</th>\n",
       "      <th></th>\n",
       "      <th></th>\n",
       "    </tr>\n",
       "  </thead>\n",
       "  <tbody>\n",
       "    <tr>\n",
       "      <th>No</th>\n",
       "      <td>20232</td>\n",
       "      <td>7352</td>\n",
       "    </tr>\n",
       "    <tr>\n",
       "      <th>Unknown</th>\n",
       "      <td>89865</td>\n",
       "      <td>56166</td>\n",
       "    </tr>\n",
       "    <tr>\n",
       "      <th>Yes</th>\n",
       "      <td>627</td>\n",
       "      <td>9913</td>\n",
       "    </tr>\n",
       "  </tbody>\n",
       "</table>\n",
       "</div>"
      ],
      "text/plain": [
       "death_yn     No    Yes\n",
       "icu_yn                \n",
       "No        20232   7352\n",
       "Unknown   89865  56166\n",
       "Yes         627   9913"
      ]
     },
     "execution_count": 41,
     "metadata": {},
     "output_type": "execute_result"
    }
   ],
   "source": [
    "pd.crosstab(df1[\"icu_yn\"],df1[\"death_yn\"])"
   ]
  },
  {
   "cell_type": "code",
   "execution_count": 42,
   "id": "22520717",
   "metadata": {},
   "outputs": [
    {
     "data": {
      "text/html": [
       "<div>\n",
       "<style scoped>\n",
       "    .dataframe tbody tr th:only-of-type {\n",
       "        vertical-align: middle;\n",
       "    }\n",
       "\n",
       "    .dataframe tbody tr th {\n",
       "        vertical-align: top;\n",
       "    }\n",
       "\n",
       "    .dataframe thead th {\n",
       "        text-align: right;\n",
       "    }\n",
       "</style>\n",
       "<table border=\"1\" class=\"dataframe\">\n",
       "  <thead>\n",
       "    <tr style=\"text-align: right;\">\n",
       "      <th>death_yn</th>\n",
       "      <th>No</th>\n",
       "      <th>Yes</th>\n",
       "    </tr>\n",
       "    <tr>\n",
       "      <th>hosp_yn</th>\n",
       "      <th></th>\n",
       "      <th></th>\n",
       "    </tr>\n",
       "  </thead>\n",
       "  <tbody>\n",
       "    <tr>\n",
       "      <th>No</th>\n",
       "      <td>80400</td>\n",
       "      <td>10817</td>\n",
       "    </tr>\n",
       "    <tr>\n",
       "      <th>Unknown</th>\n",
       "      <td>22457</td>\n",
       "      <td>17097</td>\n",
       "    </tr>\n",
       "    <tr>\n",
       "      <th>Yes</th>\n",
       "      <td>7867</td>\n",
       "      <td>45517</td>\n",
       "    </tr>\n",
       "  </tbody>\n",
       "</table>\n",
       "</div>"
      ],
      "text/plain": [
       "death_yn     No    Yes\n",
       "hosp_yn               \n",
       "No        80400  10817\n",
       "Unknown   22457  17097\n",
       "Yes        7867  45517"
      ]
     },
     "execution_count": 42,
     "metadata": {},
     "output_type": "execute_result"
    }
   ],
   "source": [
    "pd.crosstab(df1[\"hosp_yn\"],df1[\"death_yn\"])"
   ]
  },
  {
   "cell_type": "code",
   "execution_count": 43,
   "id": "ff0b5c80",
   "metadata": {},
   "outputs": [
    {
     "data": {
      "text/html": [
       "<div>\n",
       "<style scoped>\n",
       "    .dataframe tbody tr th:only-of-type {\n",
       "        vertical-align: middle;\n",
       "    }\n",
       "\n",
       "    .dataframe tbody tr th {\n",
       "        vertical-align: top;\n",
       "    }\n",
       "\n",
       "    .dataframe thead th {\n",
       "        text-align: right;\n",
       "    }\n",
       "</style>\n",
       "<table border=\"1\" class=\"dataframe\">\n",
       "  <thead>\n",
       "    <tr style=\"text-align: right;\">\n",
       "      <th>death_yn</th>\n",
       "      <th>No</th>\n",
       "      <th>Yes</th>\n",
       "    </tr>\n",
       "    <tr>\n",
       "      <th>current_status</th>\n",
       "      <th></th>\n",
       "      <th></th>\n",
       "    </tr>\n",
       "  </thead>\n",
       "  <tbody>\n",
       "    <tr>\n",
       "      <th>Laboratory-confirmed case</th>\n",
       "      <td>56.868399</td>\n",
       "      <td>37.269148</td>\n",
       "    </tr>\n",
       "    <tr>\n",
       "      <th>Probable Case</th>\n",
       "      <td>3.257039</td>\n",
       "      <td>2.605414</td>\n",
       "    </tr>\n",
       "  </tbody>\n",
       "</table>\n",
       "</div>"
      ],
      "text/plain": [
       "death_yn                          No        Yes\n",
       "current_status                                 \n",
       "Laboratory-confirmed case  56.868399  37.269148\n",
       "Probable Case               3.257039   2.605414"
      ]
     },
     "execution_count": 43,
     "metadata": {},
     "output_type": "execute_result"
    }
   ],
   "source": [
    "pd.crosstab(df1[\"current_status\"],df1[\"death_yn\"],normalize=True)*100"
   ]
  },
  {
   "cell_type": "code",
   "execution_count": 44,
   "id": "46847fe0",
   "metadata": {},
   "outputs": [
    {
     "data": {
      "text/html": [
       "<div>\n",
       "<style scoped>\n",
       "    .dataframe tbody tr th:only-of-type {\n",
       "        vertical-align: middle;\n",
       "    }\n",
       "\n",
       "    .dataframe tbody tr th {\n",
       "        vertical-align: top;\n",
       "    }\n",
       "\n",
       "    .dataframe thead th {\n",
       "        text-align: right;\n",
       "    }\n",
       "</style>\n",
       "<table border=\"1\" class=\"dataframe\">\n",
       "  <thead>\n",
       "    <tr style=\"text-align: right;\">\n",
       "      <th>death_yn</th>\n",
       "      <th>No</th>\n",
       "      <th>Yes</th>\n",
       "    </tr>\n",
       "    <tr>\n",
       "      <th>sex</th>\n",
       "      <th></th>\n",
       "      <th></th>\n",
       "    </tr>\n",
       "  </thead>\n",
       "  <tbody>\n",
       "    <tr>\n",
       "      <th>Female</th>\n",
       "      <td>31.615758</td>\n",
       "      <td>18.400804</td>\n",
       "    </tr>\n",
       "    <tr>\n",
       "      <th>Male</th>\n",
       "      <td>28.208303</td>\n",
       "      <td>21.352665</td>\n",
       "    </tr>\n",
       "    <tr>\n",
       "      <th>other</th>\n",
       "      <td>0.301377</td>\n",
       "      <td>0.121094</td>\n",
       "    </tr>\n",
       "  </tbody>\n",
       "</table>\n",
       "</div>"
      ],
      "text/plain": [
       "death_yn         No        Yes\n",
       "sex                           \n",
       "Female    31.615758  18.400804\n",
       "Male      28.208303  21.352665\n",
       "other      0.301377   0.121094"
      ]
     },
     "execution_count": 44,
     "metadata": {},
     "output_type": "execute_result"
    }
   ],
   "source": [
    "pd.crosstab(df1[\"sex\"],df1[\"death_yn\"],normalize=True)*100"
   ]
  },
  {
   "cell_type": "code",
   "execution_count": 45,
   "id": "c8536946",
   "metadata": {},
   "outputs": [
    {
     "data": {
      "text/html": [
       "<div>\n",
       "<style scoped>\n",
       "    .dataframe tbody tr th:only-of-type {\n",
       "        vertical-align: middle;\n",
       "    }\n",
       "\n",
       "    .dataframe tbody tr th {\n",
       "        vertical-align: top;\n",
       "    }\n",
       "\n",
       "    .dataframe thead th {\n",
       "        text-align: right;\n",
       "    }\n",
       "</style>\n",
       "<table border=\"1\" class=\"dataframe\">\n",
       "  <thead>\n",
       "    <tr style=\"text-align: right;\">\n",
       "      <th>death_yn</th>\n",
       "      <th>No</th>\n",
       "      <th>Yes</th>\n",
       "    </tr>\n",
       "    <tr>\n",
       "      <th>age_group</th>\n",
       "      <th></th>\n",
       "      <th></th>\n",
       "    </tr>\n",
       "  </thead>\n",
       "  <tbody>\n",
       "    <tr>\n",
       "      <th>0-19</th>\n",
       "      <td>8.736119</td>\n",
       "      <td>0.051587</td>\n",
       "    </tr>\n",
       "    <tr>\n",
       "      <th>20-39</th>\n",
       "      <td>21.889712</td>\n",
       "      <td>0.669545</td>\n",
       "    </tr>\n",
       "    <tr>\n",
       "      <th>40-59</th>\n",
       "      <td>18.129836</td>\n",
       "      <td>4.226874</td>\n",
       "    </tr>\n",
       "    <tr>\n",
       "      <th>60-79</th>\n",
       "      <td>9.257419</td>\n",
       "      <td>16.371535</td>\n",
       "    </tr>\n",
       "    <tr>\n",
       "      <th>80+ Years</th>\n",
       "      <td>2.040129</td>\n",
       "      <td>18.549591</td>\n",
       "    </tr>\n",
       "    <tr>\n",
       "      <th>Unknown</th>\n",
       "      <td>0.071679</td>\n",
       "      <td>0.003801</td>\n",
       "    </tr>\n",
       "    <tr>\n",
       "      <th>unknown</th>\n",
       "      <td>0.000543</td>\n",
       "      <td>0.001629</td>\n",
       "    </tr>\n",
       "  </tbody>\n",
       "</table>\n",
       "</div>"
      ],
      "text/plain": [
       "death_yn          No        Yes\n",
       "age_group                      \n",
       "0-19        8.736119   0.051587\n",
       "20-39      21.889712   0.669545\n",
       "40-59      18.129836   4.226874\n",
       "60-79       9.257419  16.371535\n",
       "80+ Years   2.040129  18.549591\n",
       "Unknown     0.071679   0.003801\n",
       "unknown     0.000543   0.001629"
      ]
     },
     "execution_count": 45,
     "metadata": {},
     "output_type": "execute_result"
    }
   ],
   "source": [
    "pd.crosstab(df1[\"age_group\"],df1[\"death_yn\"],normalize=True)*100"
   ]
  },
  {
   "cell_type": "code",
   "execution_count": 46,
   "id": "4e6fc149",
   "metadata": {},
   "outputs": [
    {
     "data": {
      "text/html": [
       "<div>\n",
       "<style scoped>\n",
       "    .dataframe tbody tr th:only-of-type {\n",
       "        vertical-align: middle;\n",
       "    }\n",
       "\n",
       "    .dataframe tbody tr th {\n",
       "        vertical-align: top;\n",
       "    }\n",
       "\n",
       "    .dataframe thead th {\n",
       "        text-align: right;\n",
       "    }\n",
       "</style>\n",
       "<table border=\"1\" class=\"dataframe\">\n",
       "  <thead>\n",
       "    <tr style=\"text-align: right;\">\n",
       "      <th>death_yn</th>\n",
       "      <th>No</th>\n",
       "      <th>Yes</th>\n",
       "    </tr>\n",
       "    <tr>\n",
       "      <th>medcond_yn</th>\n",
       "      <th></th>\n",
       "      <th></th>\n",
       "    </tr>\n",
       "  </thead>\n",
       "  <tbody>\n",
       "    <tr>\n",
       "      <th>No</th>\n",
       "      <td>9.197144</td>\n",
       "      <td>0.805843</td>\n",
       "    </tr>\n",
       "    <tr>\n",
       "      <th>Unknown</th>\n",
       "      <td>42.969238</td>\n",
       "      <td>23.999348</td>\n",
       "    </tr>\n",
       "    <tr>\n",
       "      <th>Yes</th>\n",
       "      <td>7.959056</td>\n",
       "      <td>15.069371</td>\n",
       "    </tr>\n",
       "  </tbody>\n",
       "</table>\n",
       "</div>"
      ],
      "text/plain": [
       "death_yn           No        Yes\n",
       "medcond_yn                      \n",
       "No           9.197144   0.805843\n",
       "Unknown     42.969238  23.999348\n",
       "Yes          7.959056  15.069371"
      ]
     },
     "execution_count": 46,
     "metadata": {},
     "output_type": "execute_result"
    }
   ],
   "source": [
    "pd.crosstab(df1[\"medcond_yn\"],df1[\"death_yn\"],normalize=True)*100"
   ]
  },
  {
   "cell_type": "markdown",
   "id": "70049484",
   "metadata": {},
   "source": [
    "* create dummies for non numeric columns"
   ]
  },
  {
   "cell_type": "code",
   "execution_count": 47,
   "id": "a6717cea",
   "metadata": {},
   "outputs": [],
   "source": [
    "df2=pd.get_dummies(data=df1, drop_first=True)"
   ]
  },
  {
   "cell_type": "markdown",
   "id": "c433f87d",
   "metadata": {},
   "source": [
    "#### multicollinearity"
   ]
  },
  {
   "cell_type": "code",
   "execution_count": 48,
   "id": "69504bb5",
   "metadata": {},
   "outputs": [
    {
     "data": {
      "image/png": "[encoded data removed]",
      "text/plain": [
       "<Figure size 720x432 with 2 Axes>"
      ]
     },
     "metadata": {
      "needs_background": "light"
     },
     "output_type": "display_data"
    }
   ],
   "source": [
    "plt.figure(figsize=(10,6))\n",
    "cr=df1.corr()\n",
    "cr=cr[abs(cr)>.6]\n",
    "sns.heatmap(cr,annot=True, cmap=\"coolwarm\")\n",
    "plt.show()"
   ]
  },
  {
   "cell_type": "markdown",
   "id": "cb2193d2",
   "metadata": {},
   "source": [
    "### model development\n",
    " * logistic reg"
   ]
  },
  {
   "cell_type": "code",
   "execution_count": 49,
   "id": "f590055c",
   "metadata": {},
   "outputs": [],
   "source": [
    "y=df2['death_yn_Yes']\n",
    "x=df2.drop('death_yn_Yes',axis=1)"
   ]
  },
  {
   "cell_type": "code",
   "execution_count": 50,
   "id": "7b20b88d",
   "metadata": {},
   "outputs": [],
   "source": [
    "x_train,x_test,y_train,y_test=train_test_split(x,y,test_size=.30, random_state=0)"
   ]
  },
  {
   "cell_type": "code",
   "execution_count": 51,
   "id": "7d09f3bd",
   "metadata": {},
   "outputs": [
    {
     "data": {
      "text/plain": [
       "LogisticRegression(max_iter=1000)"
      ]
     },
     "execution_count": 51,
     "metadata": {},
     "output_type": "execute_result"
    }
   ],
   "source": [
    "logR=LogisticRegression(max_iter=1000)\n",
    "logR.fit(x_train,y_train)"
   ]
  },
  {
   "cell_type": "code",
   "execution_count": 52,
   "id": "4a4795a7",
   "metadata": {},
   "outputs": [
    {
     "name": "stdout",
     "output_type": "stream",
     "text": [
      "train score: 0.9019455735873646\n",
      "test score: 0.9013521096168118\n"
     ]
    }
   ],
   "source": [
    "print(\"train score:\", logR.score(x_train, y_train))\n",
    "print(\"test score:\", logR.score(x_test, y_test))"
   ]
  },
  {
   "cell_type": "code",
   "execution_count": 53,
   "id": "e1dec987",
   "metadata": {},
   "outputs": [],
   "source": [
    "pred_train=logR.predict(x_train)\n",
    "pred_test=logR.predict(x_test)"
   ]
  },
  {
   "cell_type": "code",
   "execution_count": 54,
   "id": "22b2a051",
   "metadata": {},
   "outputs": [
    {
     "data": {
      "text/html": [
       "<div>\n",
       "<style scoped>\n",
       "    .dataframe tbody tr th:only-of-type {\n",
       "        vertical-align: middle;\n",
       "    }\n",
       "\n",
       "    .dataframe tbody tr th {\n",
       "        vertical-align: top;\n",
       "    }\n",
       "\n",
       "    .dataframe thead th {\n",
       "        text-align: right;\n",
       "    }\n",
       "</style>\n",
       "<table border=\"1\" class=\"dataframe\">\n",
       "  <thead>\n",
       "    <tr style=\"text-align: right;\">\n",
       "      <th></th>\n",
       "      <th>act</th>\n",
       "      <th>pred</th>\n",
       "    </tr>\n",
       "  </thead>\n",
       "  <tbody>\n",
       "    <tr>\n",
       "      <th>84011</th>\n",
       "      <td>0</td>\n",
       "      <td>0</td>\n",
       "    </tr>\n",
       "    <tr>\n",
       "      <th>21411</th>\n",
       "      <td>1</td>\n",
       "      <td>1</td>\n",
       "    </tr>\n",
       "    <tr>\n",
       "      <th>179589</th>\n",
       "      <td>0</td>\n",
       "      <td>0</td>\n",
       "    </tr>\n",
       "    <tr>\n",
       "      <th>73249</th>\n",
       "      <td>1</td>\n",
       "      <td>1</td>\n",
       "    </tr>\n",
       "    <tr>\n",
       "      <th>43983</th>\n",
       "      <td>1</td>\n",
       "      <td>1</td>\n",
       "    </tr>\n",
       "    <tr>\n",
       "      <th>...</th>\n",
       "      <td>...</td>\n",
       "      <td>...</td>\n",
       "    </tr>\n",
       "    <tr>\n",
       "      <th>152315</th>\n",
       "      <td>0</td>\n",
       "      <td>0</td>\n",
       "    </tr>\n",
       "    <tr>\n",
       "      <th>176963</th>\n",
       "      <td>0</td>\n",
       "      <td>0</td>\n",
       "    </tr>\n",
       "    <tr>\n",
       "      <th>117952</th>\n",
       "      <td>0</td>\n",
       "      <td>0</td>\n",
       "    </tr>\n",
       "    <tr>\n",
       "      <th>173685</th>\n",
       "      <td>0</td>\n",
       "      <td>0</td>\n",
       "    </tr>\n",
       "    <tr>\n",
       "      <th>43567</th>\n",
       "      <td>1</td>\n",
       "      <td>1</td>\n",
       "    </tr>\n",
       "  </tbody>\n",
       "</table>\n",
       "<p>128908 rows × 2 columns</p>\n",
       "</div>"
      ],
      "text/plain": [
       "        act  pred\n",
       "84011     0     0\n",
       "21411     1     1\n",
       "179589    0     0\n",
       "73249     1     1\n",
       "43983     1     1\n",
       "...     ...   ...\n",
       "152315    0     0\n",
       "176963    0     0\n",
       "117952    0     0\n",
       "173685    0     0\n",
       "43567     1     1\n",
       "\n",
       "[128908 rows x 2 columns]"
      ]
     },
     "execution_count": 54,
     "metadata": {},
     "output_type": "execute_result"
    }
   ],
   "source": [
    "pd.DataFrame({\"act\" :y_train, \"pred\" :pred_train})"
   ]
  },
  {
   "cell_type": "markdown",
   "id": "a52abf3d",
   "metadata": {},
   "source": [
    "### confusion metrix"
   ]
  },
  {
   "cell_type": "code",
   "execution_count": 55,
   "id": "bca14826",
   "metadata": {},
   "outputs": [
    {
     "data": {
      "text/html": [
       "<div>\n",
       "<style scoped>\n",
       "    .dataframe tbody tr th:only-of-type {\n",
       "        vertical-align: middle;\n",
       "    }\n",
       "\n",
       "    .dataframe tbody tr th {\n",
       "        vertical-align: top;\n",
       "    }\n",
       "\n",
       "    .dataframe thead th {\n",
       "        text-align: right;\n",
       "    }\n",
       "</style>\n",
       "<table border=\"1\" class=\"dataframe\">\n",
       "  <thead>\n",
       "    <tr style=\"text-align: right;\">\n",
       "      <th></th>\n",
       "      <th>Pred_0_neg</th>\n",
       "      <th>Pred_1_pos</th>\n",
       "    </tr>\n",
       "  </thead>\n",
       "  <tbody>\n",
       "    <tr>\n",
       "      <th>Act_0_neg</th>\n",
       "      <td>70689</td>\n",
       "      <td>6585</td>\n",
       "    </tr>\n",
       "    <tr>\n",
       "      <th>Act_1_pos</th>\n",
       "      <td>6055</td>\n",
       "      <td>45579</td>\n",
       "    </tr>\n",
       "  </tbody>\n",
       "</table>\n",
       "</div>"
      ],
      "text/plain": [
       "           Pred_0_neg  Pred_1_pos\n",
       "Act_0_neg       70689        6585\n",
       "Act_1_pos        6055       45579"
      ]
     },
     "execution_count": 55,
     "metadata": {},
     "output_type": "execute_result"
    }
   ],
   "source": [
    "conf_train=metrics.confusion_matrix(y_train, pred_train)\n",
    "pd.DataFrame(conf_train, columns=['Pred_0_neg','Pred_1_pos'], index=['Act_0_neg','Act_1_pos'])"
   ]
  },
  {
   "cell_type": "code",
   "execution_count": 56,
   "id": "e848e358",
   "metadata": {},
   "outputs": [
    {
     "name": "stdout",
     "output_type": "stream",
     "text": [
      "              precision    recall  f1-score   support\n",
      "\n",
      "           0       0.92      0.91      0.92     77274\n",
      "           1       0.87      0.88      0.88     51634\n",
      "\n",
      "    accuracy                           0.90    128908\n",
      "   macro avg       0.90      0.90      0.90    128908\n",
      "weighted avg       0.90      0.90      0.90    128908\n",
      "\n"
     ]
    }
   ],
   "source": [
    "print(metrics.classification_report(y_train,pred_train))"
   ]
  },
  {
   "cell_type": "code",
   "execution_count": 57,
   "id": "1dd6132a",
   "metadata": {},
   "outputs": [
    {
     "data": {
      "text/html": [
       "<div>\n",
       "<style scoped>\n",
       "    .dataframe tbody tr th:only-of-type {\n",
       "        vertical-align: middle;\n",
       "    }\n",
       "\n",
       "    .dataframe tbody tr th {\n",
       "        vertical-align: top;\n",
       "    }\n",
       "\n",
       "    .dataframe thead th {\n",
       "        text-align: right;\n",
       "    }\n",
       "</style>\n",
       "<table border=\"1\" class=\"dataframe\">\n",
       "  <thead>\n",
       "    <tr style=\"text-align: right;\">\n",
       "      <th></th>\n",
       "      <th>pob_0</th>\n",
       "      <th>porb_1</th>\n",
       "    </tr>\n",
       "  </thead>\n",
       "  <tbody>\n",
       "    <tr>\n",
       "      <th>0</th>\n",
       "      <td>0.949775</td>\n",
       "      <td>0.050225</td>\n",
       "    </tr>\n",
       "    <tr>\n",
       "      <th>1</th>\n",
       "      <td>0.009860</td>\n",
       "      <td>0.990140</td>\n",
       "    </tr>\n",
       "    <tr>\n",
       "      <th>2</th>\n",
       "      <td>0.920426</td>\n",
       "      <td>0.079574</td>\n",
       "    </tr>\n",
       "    <tr>\n",
       "      <th>3</th>\n",
       "      <td>0.005002</td>\n",
       "      <td>0.994998</td>\n",
       "    </tr>\n",
       "    <tr>\n",
       "      <th>4</th>\n",
       "      <td>0.078472</td>\n",
       "      <td>0.921528</td>\n",
       "    </tr>\n",
       "    <tr>\n",
       "      <th>...</th>\n",
       "      <td>...</td>\n",
       "      <td>...</td>\n",
       "    </tr>\n",
       "    <tr>\n",
       "      <th>128903</th>\n",
       "      <td>0.975012</td>\n",
       "      <td>0.024988</td>\n",
       "    </tr>\n",
       "    <tr>\n",
       "      <th>128904</th>\n",
       "      <td>0.722372</td>\n",
       "      <td>0.277628</td>\n",
       "    </tr>\n",
       "    <tr>\n",
       "      <th>128905</th>\n",
       "      <td>0.995286</td>\n",
       "      <td>0.004714</td>\n",
       "    </tr>\n",
       "    <tr>\n",
       "      <th>128906</th>\n",
       "      <td>0.766440</td>\n",
       "      <td>0.233560</td>\n",
       "    </tr>\n",
       "    <tr>\n",
       "      <th>128907</th>\n",
       "      <td>0.027776</td>\n",
       "      <td>0.972224</td>\n",
       "    </tr>\n",
       "  </tbody>\n",
       "</table>\n",
       "<p>128908 rows × 2 columns</p>\n",
       "</div>"
      ],
      "text/plain": [
       "           pob_0    porb_1\n",
       "0       0.949775  0.050225\n",
       "1       0.009860  0.990140\n",
       "2       0.920426  0.079574\n",
       "3       0.005002  0.994998\n",
       "4       0.078472  0.921528\n",
       "...          ...       ...\n",
       "128903  0.975012  0.024988\n",
       "128904  0.722372  0.277628\n",
       "128905  0.995286  0.004714\n",
       "128906  0.766440  0.233560\n",
       "128907  0.027776  0.972224\n",
       "\n",
       "[128908 rows x 2 columns]"
      ]
     },
     "execution_count": 57,
     "metadata": {},
     "output_type": "execute_result"
    }
   ],
   "source": [
    "prob_train=pd.DataFrame(logR.predict_proba(x_train),columns=[\"pob_0\",\"porb_1\"])\n",
    "prob_train"
   ]
  },
  {
   "cell_type": "code",
   "execution_count": 58,
   "id": "11493c09",
   "metadata": {},
   "outputs": [
    {
     "name": "stdout",
     "output_type": "stream",
     "text": [
      "              precision    recall  f1-score   support\n",
      "\n",
      "           0       0.95      0.87      0.91     77274\n",
      "           1       0.83      0.94      0.88     51634\n",
      "\n",
      "    accuracy                           0.90    128908\n",
      "   macro avg       0.89      0.90      0.90    128908\n",
      "weighted avg       0.90      0.90      0.90    128908\n",
      "\n"
     ]
    }
   ],
   "source": [
    "new_pred_train=np.where(prob_train[\"porb_1\"]>.3,1,0)\n",
    "print(metrics.classification_report(y_train, new_pred_train))"
   ]
  },
  {
   "cell_type": "code",
   "execution_count": 59,
   "id": "14e39bfc",
   "metadata": {},
   "outputs": [
    {
     "data": {
      "text/html": [
       "<div>\n",
       "<style scoped>\n",
       "    .dataframe tbody tr th:only-of-type {\n",
       "        vertical-align: middle;\n",
       "    }\n",
       "\n",
       "    .dataframe tbody tr th {\n",
       "        vertical-align: top;\n",
       "    }\n",
       "\n",
       "    .dataframe thead th {\n",
       "        text-align: right;\n",
       "    }\n",
       "</style>\n",
       "<table border=\"1\" class=\"dataframe\">\n",
       "  <thead>\n",
       "    <tr style=\"text-align: right;\">\n",
       "      <th></th>\n",
       "      <th>Pred_0_neg</th>\n",
       "      <th>Pred_1_pos</th>\n",
       "    </tr>\n",
       "  </thead>\n",
       "  <tbody>\n",
       "    <tr>\n",
       "      <th>Act_0_neg</th>\n",
       "      <td>70689</td>\n",
       "      <td>6585</td>\n",
       "    </tr>\n",
       "    <tr>\n",
       "      <th>Act_1_pos</th>\n",
       "      <td>6055</td>\n",
       "      <td>45579</td>\n",
       "    </tr>\n",
       "  </tbody>\n",
       "</table>\n",
       "</div>"
      ],
      "text/plain": [
       "           Pred_0_neg  Pred_1_pos\n",
       "Act_0_neg       70689        6585\n",
       "Act_1_pos        6055       45579"
      ]
     },
     "execution_count": 59,
     "metadata": {},
     "output_type": "execute_result"
    }
   ],
   "source": [
    "new_conf_train=metrics.confusion_matrix(y_train, new_pred_train)\n",
    "pd.DataFrame(conf_train, columns=['Pred_0_neg','Pred_1_pos'], index=['Act_0_neg','Act_1_pos'])"
   ]
  },
  {
   "cell_type": "markdown",
   "id": "ae173c7c",
   "metadata": {},
   "source": [
    "#### ROC AUC"
   ]
  },
  {
   "cell_type": "code",
   "execution_count": 60,
   "id": "6fb30c92",
   "metadata": {},
   "outputs": [
    {
     "data": {
      "text/plain": [
       "0.898758032335935"
      ]
     },
     "execution_count": 60,
     "metadata": {},
     "output_type": "execute_result"
    }
   ],
   "source": [
    "fpr, tpr, thresholds= metrics.roc_curve(y_train, pred_train)\n",
    "roc_auc=metrics.auc(fpr,tpr)\n",
    "roc_auc"
   ]
  },
  {
   "cell_type": "code",
   "execution_count": 61,
   "id": "30a92d40",
   "metadata": {},
   "outputs": [
    {
     "data": {
      "image/png": "[encoded data removed]",
      "text/plain": [
       "<Figure size 432x288 with 1 Axes>"
      ]
     },
     "metadata": {
      "needs_background": "light"
     },
     "output_type": "display_data"
    }
   ],
   "source": [
    "display=metrics.RocCurveDisplay(fpr=fpr,tpr=tpr,roc_auc=roc_auc, estimator_name='Logistic Reg')\n",
    "display.plot()\n",
    "plt.show()"
   ]
  },
  {
   "cell_type": "markdown",
   "id": "060a0d39",
   "metadata": {},
   "source": [
    "### decision tree"
   ]
  },
  {
   "cell_type": "code",
   "execution_count": 62,
   "id": "8a2c8811",
   "metadata": {},
   "outputs": [
    {
     "name": "stdout",
     "output_type": "stream",
     "text": [
      "train accuracy : 0.953\n",
      "test accuracy : 0.882\n"
     ]
    }
   ],
   "source": [
    "dt=DecisionTreeClassifier()\n",
    "dt.fit(x_train, y_train)\n",
    "\n",
    "print(\"train accuracy :\", round(dt.score(x_train, y_train),3))\n",
    "print(\"test accuracy :\", round(dt.score(x_test, y_test),3))"
   ]
  },
  {
   "cell_type": "code",
   "execution_count": 63,
   "id": "8f9ce39b",
   "metadata": {},
   "outputs": [],
   "source": [
    "# from sklearn.tree import plot_tree\n",
    "# fn=x_train.columns\n",
    "# cn=['yes','no']\n",
    "\n",
    "# # setting dpi = 300 to make image clearer than default \n",
    "# fig, axes=plt.subplots(nrows = 1, ncols = 1, figsize = (5,5), dpi=300)\n",
    "\n",
    "# dt_plot=plot_tree(dt,\n",
    "#                   feature_names = fn,\n",
    "#                   class_names = cn,\n",
    "#                   filled=True);"
   ]
  },
  {
   "cell_type": "code",
   "execution_count": 64,
   "id": "2429c41c",
   "metadata": {},
   "outputs": [
    {
     "name": "stdout",
     "output_type": "stream",
     "text": [
      "train accuracy : 0.91\n",
      "test accuracy : 0.905\n"
     ]
    }
   ],
   "source": [
    "dt1=DecisionTreeClassifier(max_depth=9)\n",
    "dt1.fit(x_train, y_train)\n",
    "\n",
    "print(\"train accuracy :\", round(dt1.score(x_train, y_train),3))\n",
    "print(\"test accuracy :\", round(dt1.score(x_test, y_test),3))"
   ]
  },
  {
   "cell_type": "code",
   "execution_count": 65,
   "id": "5f26b431",
   "metadata": {},
   "outputs": [
    {
     "name": "stdout",
     "output_type": "stream",
     "text": [
      "train accuracy :91.60000000000001%\n",
      "test accuracy :90.60000000000001%\n"
     ]
    }
   ],
   "source": [
    "dt1=DecisionTreeClassifier(min_samples_split=70)\n",
    "dt1.fit(x_train, y_train)\n",
    "\n",
    "print(\"train accuracy :\"+str(round(dt1.score(x_train, y_train),3)*100)+str('%'))\n",
    "print(\"test accuracy :\" +str(round(dt1.score(x_test, y_test),3)*100)+str('%'))"
   ]
  },
  {
   "cell_type": "code",
   "execution_count": 66,
   "id": "916946b4",
   "metadata": {},
   "outputs": [
    {
     "name": "stdout",
     "output_type": "stream",
     "text": [
      "train accuracy :90.8%\n",
      "test accuracy :90.5%\n"
     ]
    }
   ],
   "source": [
    "dt1=DecisionTreeClassifier(min_samples_leaf=150)\n",
    "dt1.fit(x_train, y_train)\n",
    "\n",
    "print(\"train accuracy :\"+str(round(dt1.score(x_train, y_train),3)*100)+str('%'))\n",
    "print(\"test accuracy :\"+str(round(dt1.score(x_test, y_test),3)*100)+str('%'))"
   ]
  },
  {
   "cell_type": "code",
   "execution_count": 67,
   "id": "fd6808b7",
   "metadata": {},
   "outputs": [
    {
     "name": "stdout",
     "output_type": "stream",
     "text": [
      "train accuracy :95.3%\n",
      "test accuracy :88.2%\n"
     ]
    }
   ],
   "source": [
    "dt1=DecisionTreeClassifier(criterion=\"entropy\")\n",
    "dt1.fit(x_train, y_train)\n",
    "\n",
    "print(\"train accuracy :\"+str(round(dt1.score(x_train, y_train),3)*100)+str('%'))\n",
    "print(\"test accuracy :\"+str(round(dt1.score(x_test, y_test),3)*100)+str('%'))"
   ]
  },
  {
   "cell_type": "markdown",
   "id": "7a5c5eb3",
   "metadata": {},
   "source": [
    "#### grid search : parameter tuning"
   ]
  },
  {
   "cell_type": "code",
   "execution_count": 68,
   "id": "46e74917",
   "metadata": {},
   "outputs": [
    {
     "name": "stdout",
     "output_type": "stream",
     "text": [
      "Fitting 10 folds for each of 420 candidates, totalling 4200 fits\n"
     ]
    },
    {
     "name": "stderr",
     "output_type": "stream",
     "text": [
      "C:\\Users\\User\\anaconda3\\lib\\site-packages\\sklearn\\model_selection\\_validation.py:372: FitFailedWarning: \n",
      "2100 fits failed out of a total of 4200.\n",
      "The score on these train-test partitions for these parameters will be set to nan.\n",
      "If these failures are not expected, you can try to debug them by setting error_score='raise'.\n",
      "\n",
      "Below are more details about the failures:\n",
      "--------------------------------------------------------------------------------\n",
      "2100 fits failed with the following error:\n",
      "Traceback (most recent call last):\n",
      "  File \"C:\\Users\\User\\anaconda3\\lib\\site-packages\\sklearn\\model_selection\\_validation.py\", line 680, in _fit_and_score\n",
      "    estimator.fit(X_train, y_train, **fit_params)\n",
      "  File \"C:\\Users\\User\\anaconda3\\lib\\site-packages\\sklearn\\tree\\_classes.py\", line 937, in fit\n",
      "    super().fit(\n",
      "  File \"C:\\Users\\User\\anaconda3\\lib\\site-packages\\sklearn\\tree\\_classes.py\", line 352, in fit\n",
      "    criterion = CRITERIA_CLF[self.criterion](\n",
      "KeyError: 'enttropy'\n",
      "\n",
      "  warnings.warn(some_fits_failed_message, FitFailedWarning)\n",
      "C:\\Users\\User\\anaconda3\\lib\\site-packages\\sklearn\\model_selection\\_search.py:969: UserWarning: One or more of the test scores are non-finite: [0.90677848 0.90677848 0.90677848 0.90677848 0.90677848 0.90677848\n",
      " 0.90677848 0.90722841 0.90722841 0.90722841 0.90722841 0.90722841\n",
      " 0.90722841 0.90722841 0.90693362 0.90693362 0.90693362 0.90693362\n",
      " 0.90693362 0.90693362 0.90693362 0.90677071 0.90677071 0.90677071\n",
      " 0.90677071 0.90677071 0.90677071 0.90677071 0.90670865 0.90670865\n",
      " 0.90670865 0.90670865 0.90670865 0.90670865 0.90670865 0.90716636\n",
      " 0.90716636 0.90716636 0.90716636 0.90716636 0.90716636 0.90716636\n",
      " 0.90734477 0.90734477 0.90734477 0.90734477 0.90734477 0.90734477\n",
      " 0.90734477 0.9071741  0.9071741  0.9071741  0.9071741  0.9071741\n",
      " 0.9071741  0.9071741  0.90684052 0.90684052 0.90684052 0.90684052\n",
      " 0.90684052 0.90684052 0.90684052 0.90685604 0.90685604 0.90685604\n",
      " 0.90685604 0.90685604 0.90685604 0.90685604 0.90738356 0.90738356\n",
      " 0.90738356 0.90738356 0.90738356 0.90738356 0.90738356 0.90746113\n",
      " 0.90746113 0.90746113 0.90746113 0.90746113 0.90746113 0.90746113\n",
      " 0.90731373 0.90731373 0.90731373 0.90731373 0.90731373 0.90731373\n",
      " 0.90731373 0.90689482 0.90689482 0.90689482 0.90689482 0.90689482\n",
      " 0.90689482 0.90689482 0.90685604 0.90685604 0.90685604 0.90685604\n",
      " 0.90685604 0.90685604 0.90685604 0.90738356 0.90738356 0.90738356\n",
      " 0.90738356 0.90738356 0.90738356 0.90738356 0.90746113 0.90746113\n",
      " 0.90746113 0.90746113 0.90746113 0.90746113 0.90746113 0.90731373\n",
      " 0.90731373 0.90731373 0.90731373 0.90731373 0.90731373 0.90731373\n",
      " 0.90689482 0.90689482 0.90689482 0.90689482 0.90689482 0.90689482\n",
      " 0.90689482 0.90685604 0.90685604 0.90685604 0.90685604 0.90685604\n",
      " 0.90685604 0.90685604 0.90738356 0.90738356 0.90738356 0.90738356\n",
      " 0.90738356 0.90738356 0.90738356 0.90746113 0.90746113 0.90746113\n",
      " 0.90746113 0.90746113 0.90746113 0.90746113 0.90731373 0.90731373\n",
      " 0.90731373 0.90731373 0.90731373 0.90731373 0.90731373 0.90689482\n",
      " 0.90689482 0.90689482 0.90689482 0.90689482 0.90689482 0.90689482\n",
      " 0.90685604 0.90685604 0.90685604 0.90685604 0.90685604 0.90685604\n",
      " 0.90685604 0.90738356 0.90738356 0.90738356 0.90738356 0.90738356\n",
      " 0.90738356 0.90738356 0.90746113 0.90746113 0.90746113 0.90746113\n",
      " 0.90746113 0.90746113 0.90746113 0.90731373 0.90731373 0.90731373\n",
      " 0.90731373 0.90731373 0.90731373 0.90731373 0.90689482 0.90689482\n",
      " 0.90689482 0.90689482 0.90689482 0.90689482 0.90689482 0.90685604\n",
      " 0.90685604 0.90685604 0.90685604 0.90685604 0.90685604 0.90685604\n",
      "        nan        nan        nan        nan        nan        nan\n",
      "        nan        nan        nan        nan        nan        nan\n",
      "        nan        nan        nan        nan        nan        nan\n",
      "        nan        nan        nan        nan        nan        nan\n",
      "        nan        nan        nan        nan        nan        nan\n",
      "        nan        nan        nan        nan        nan        nan\n",
      "        nan        nan        nan        nan        nan        nan\n",
      "        nan        nan        nan        nan        nan        nan\n",
      "        nan        nan        nan        nan        nan        nan\n",
      "        nan        nan        nan        nan        nan        nan\n",
      "        nan        nan        nan        nan        nan        nan\n",
      "        nan        nan        nan        nan        nan        nan\n",
      "        nan        nan        nan        nan        nan        nan\n",
      "        nan        nan        nan        nan        nan        nan\n",
      "        nan        nan        nan        nan        nan        nan\n",
      "        nan        nan        nan        nan        nan        nan\n",
      "        nan        nan        nan        nan        nan        nan\n",
      "        nan        nan        nan        nan        nan        nan\n",
      "        nan        nan        nan        nan        nan        nan\n",
      "        nan        nan        nan        nan        nan        nan\n",
      "        nan        nan        nan        nan        nan        nan\n",
      "        nan        nan        nan        nan        nan        nan\n",
      "        nan        nan        nan        nan        nan        nan\n",
      "        nan        nan        nan        nan        nan        nan\n",
      "        nan        nan        nan        nan        nan        nan\n",
      "        nan        nan        nan        nan        nan        nan\n",
      "        nan        nan        nan        nan        nan        nan\n",
      "        nan        nan        nan        nan        nan        nan\n",
      "        nan        nan        nan        nan        nan        nan\n",
      "        nan        nan        nan        nan        nan        nan\n",
      "        nan        nan        nan        nan        nan        nan\n",
      "        nan        nan        nan        nan        nan        nan\n",
      "        nan        nan        nan        nan        nan        nan\n",
      "        nan        nan        nan        nan        nan        nan\n",
      "        nan        nan        nan        nan        nan        nan]\n",
      "  warnings.warn(\n"
     ]
    },
    {
     "data": {
      "text/plain": [
       "GridSearchCV(cv=10, estimator=DecisionTreeClassifier(), n_jobs=-1,\n",
       "             param_grid={'criterion': ['gini', 'enttropy'],\n",
       "                         'max_depth': [11, 13, 15, 16, 17, 19],\n",
       "                         'min_samples_leaf': [50, 60, 70, 90, 100],\n",
       "                         'min_samples_split': [5, 7, 8, 10, 15, 20, 25]},\n",
       "             verbose=2)"
      ]
     },
     "execution_count": 68,
     "metadata": {},
     "output_type": "execute_result"
    }
   ],
   "source": [
    "params={\"criterion\" :[\"gini\",\"enttropy\"],\n",
    "       \"max_depth\" :[11,13,15,16,17,19],\n",
    "       \"min_samples_split\" :[5,7,8,10,15,20,25],\n",
    "       \"min_samples_leaf\" :[50,60,70,90,100]}\n",
    "\n",
    "dtg=DecisionTreeClassifier()\n",
    "\n",
    "gd_search=GridSearchCV(estimator=dtg,param_grid=params , cv=10, n_jobs=-1, verbose=2)\n",
    "\n",
    "gd_search.fit(x_train, y_train)"
   ]
  },
  {
   "cell_type": "code",
   "execution_count": 69,
   "id": "972be3c4",
   "metadata": {},
   "outputs": [
    {
     "data": {
      "text/plain": [
       "0.9074611306509273"
      ]
     },
     "execution_count": 69,
     "metadata": {},
     "output_type": "execute_result"
    }
   ],
   "source": [
    "gd_search.best_score_"
   ]
  },
  {
   "cell_type": "code",
   "execution_count": 70,
   "id": "a236bd9e",
   "metadata": {},
   "outputs": [
    {
     "data": {
      "text/plain": [
       "DecisionTreeClassifier(max_depth=15, min_samples_leaf=60, min_samples_split=5)"
      ]
     },
     "execution_count": 70,
     "metadata": {},
     "output_type": "execute_result"
    }
   ],
   "source": [
    "gd_search.best_estimator_"
   ]
  },
  {
   "cell_type": "code",
   "execution_count": 71,
   "id": "2ef7f34e",
   "metadata": {},
   "outputs": [
    {
     "data": {
      "text/plain": [
       "{'criterion': 'gini',\n",
       " 'max_depth': 15,\n",
       " 'min_samples_leaf': 60,\n",
       " 'min_samples_split': 5}"
      ]
     },
     "execution_count": 71,
     "metadata": {},
     "output_type": "execute_result"
    }
   ],
   "source": [
    "gd_search.best_params_"
   ]
  },
  {
   "cell_type": "code",
   "execution_count": 72,
   "id": "7c30bb05",
   "metadata": {},
   "outputs": [
    {
     "data": {
      "text/plain": [
       "DecisionTreeClassifier(max_depth=15, min_samples_leaf=60, min_samples_split=5)"
      ]
     },
     "execution_count": 72,
     "metadata": {},
     "output_type": "execute_result"
    }
   ],
   "source": [
    "dt_f=DecisionTreeClassifier(criterion='gini',\n",
    "                            max_depth= 15,\n",
    "                            min_samples_leaf= 60,\n",
    "                            min_samples_split= 5)\n",
    "dt_f.fit(x_train,y_train)"
   ]
  },
  {
   "cell_type": "code",
   "execution_count": 73,
   "id": "87d9bc1e",
   "metadata": {},
   "outputs": [
    {
     "name": "stdout",
     "output_type": "stream",
     "text": [
      "train accuracy :91.10000000000001%\n",
      "train accuracy :90.8%\n"
     ]
    }
   ],
   "source": [
    "print(\"train accuracy :\"+str(round(dt_f.score(x_train, y_train),3)*100)+str('%'))\n",
    "print(\"train accuracy :\"+str(round(dt_f.score(x_test, y_test),3)*100)+str('%'))"
   ]
  },
  {
   "cell_type": "code",
   "execution_count": 74,
   "id": "84ffda28",
   "metadata": {},
   "outputs": [],
   "source": [
    "# from sklearn.tree import plot_tree\n",
    "# fn=x_train.columns\n",
    "# cn=['yes','no']\n",
    "\n",
    "# # setting dpi = 300 to make image clearer than default \n",
    "# fig, axes=plt.subplots(nrows = 1, ncols = 1, figsize = (5,5), dpi=200)\n",
    "\n",
    "# dt2_plot=plot_tree(dt_f,\n",
    "#                   feature_names = fn,\n",
    "#                   class_names = cn,\n",
    "#                   filled=True);"
   ]
  },
  {
   "cell_type": "markdown",
   "id": "3bb06a65",
   "metadata": {},
   "source": [
    "#### feature importance"
   ]
  },
  {
   "cell_type": "code",
   "execution_count": 75,
   "id": "77660b5c",
   "metadata": {},
   "outputs": [
    {
     "data": {
      "text/plain": [
       "array([0.00000000e+00, 4.03748216e-04, 7.21379778e-04, 1.49297756e-04,\n",
       "       3.44410352e-05, 0.00000000e+00, 5.82047102e-03, 2.18511967e-03,\n",
       "       3.12815731e-02, 1.06330112e-02, 0.00000000e+00, 4.08534960e-03,\n",
       "       2.78771739e-03, 2.04324170e-06, 1.31540232e-02, 1.29178679e-02,\n",
       "       7.95504580e-02, 2.87987386e-01, 0.00000000e+00, 0.00000000e+00,\n",
       "       3.96906322e-02, 4.85372330e-01, 7.55041066e-03, 8.05387229e-03,\n",
       "       3.99906864e-03, 3.61979973e-03])"
      ]
     },
     "execution_count": 75,
     "metadata": {},
     "output_type": "execute_result"
    }
   ],
   "source": [
    "dt_f.feature_importances_"
   ]
  },
  {
   "cell_type": "code",
   "execution_count": 76,
   "id": "be22e067",
   "metadata": {},
   "outputs": [
    {
     "data": {
      "text/html": [
       "<div>\n",
       "<style scoped>\n",
       "    .dataframe tbody tr th:only-of-type {\n",
       "        vertical-align: middle;\n",
       "    }\n",
       "\n",
       "    .dataframe tbody tr th {\n",
       "        vertical-align: top;\n",
       "    }\n",
       "\n",
       "    .dataframe thead th {\n",
       "        text-align: right;\n",
       "    }\n",
       "</style>\n",
       "<table border=\"1\" class=\"dataframe\">\n",
       "  <thead>\n",
       "    <tr style=\"text-align: right;\">\n",
       "      <th></th>\n",
       "      <th>variable</th>\n",
       "      <th>imp</th>\n",
       "    </tr>\n",
       "  </thead>\n",
       "  <tbody>\n",
       "    <tr>\n",
       "      <th>21</th>\n",
       "      <td>hosp_yn_Yes</td>\n",
       "      <td>0.485372</td>\n",
       "    </tr>\n",
       "    <tr>\n",
       "      <th>17</th>\n",
       "      <td>age_group_80+ Years</td>\n",
       "      <td>0.287987</td>\n",
       "    </tr>\n",
       "    <tr>\n",
       "      <th>16</th>\n",
       "      <td>age_group_60-79</td>\n",
       "      <td>0.079550</td>\n",
       "    </tr>\n",
       "    <tr>\n",
       "      <th>20</th>\n",
       "      <td>hosp_yn_Unknown</td>\n",
       "      <td>0.039691</td>\n",
       "    </tr>\n",
       "    <tr>\n",
       "      <th>8</th>\n",
       "      <td>month</td>\n",
       "      <td>0.031282</td>\n",
       "    </tr>\n",
       "    <tr>\n",
       "      <th>14</th>\n",
       "      <td>age_group_20-39</td>\n",
       "      <td>0.013154</td>\n",
       "    </tr>\n",
       "    <tr>\n",
       "      <th>15</th>\n",
       "      <td>age_group_40-59</td>\n",
       "      <td>0.012918</td>\n",
       "    </tr>\n",
       "    <tr>\n",
       "      <th>9</th>\n",
       "      <td>day</td>\n",
       "      <td>0.010633</td>\n",
       "    </tr>\n",
       "    <tr>\n",
       "      <th>23</th>\n",
       "      <td>icu_yn_Yes</td>\n",
       "      <td>0.008054</td>\n",
       "    </tr>\n",
       "    <tr>\n",
       "      <th>22</th>\n",
       "      <td>icu_yn_Unknown</td>\n",
       "      <td>0.007550</td>\n",
       "    </tr>\n",
       "    <tr>\n",
       "      <th>6</th>\n",
       "      <td>Race_ethnicity_Unknown</td>\n",
       "      <td>0.005820</td>\n",
       "    </tr>\n",
       "    <tr>\n",
       "      <th>11</th>\n",
       "      <td>current_status_Probable Case</td>\n",
       "      <td>0.004085</td>\n",
       "    </tr>\n",
       "    <tr>\n",
       "      <th>24</th>\n",
       "      <td>medcond_yn_Unknown</td>\n",
       "      <td>0.003999</td>\n",
       "    </tr>\n",
       "    <tr>\n",
       "      <th>25</th>\n",
       "      <td>medcond_yn_Yes</td>\n",
       "      <td>0.003620</td>\n",
       "    </tr>\n",
       "    <tr>\n",
       "      <th>12</th>\n",
       "      <td>sex_Male</td>\n",
       "      <td>0.002788</td>\n",
       "    </tr>\n",
       "    <tr>\n",
       "      <th>7</th>\n",
       "      <td>Race_ethnicity_White__Non_Hispanic</td>\n",
       "      <td>0.002185</td>\n",
       "    </tr>\n",
       "    <tr>\n",
       "      <th>2</th>\n",
       "      <td>Race_ethnicity_Hispanic_Latino</td>\n",
       "      <td>0.000721</td>\n",
       "    </tr>\n",
       "    <tr>\n",
       "      <th>1</th>\n",
       "      <td>Race_ethnicity_Black__Non_Hispanic</td>\n",
       "      <td>0.000404</td>\n",
       "    </tr>\n",
       "    <tr>\n",
       "      <th>3</th>\n",
       "      <td>Race_ethnicity_Missing</td>\n",
       "      <td>0.000149</td>\n",
       "    </tr>\n",
       "    <tr>\n",
       "      <th>4</th>\n",
       "      <td>Race_ethnicity_Multiple_Other__Non_Hispanic</td>\n",
       "      <td>0.000034</td>\n",
       "    </tr>\n",
       "    <tr>\n",
       "      <th>13</th>\n",
       "      <td>sex_other</td>\n",
       "      <td>0.000002</td>\n",
       "    </tr>\n",
       "    <tr>\n",
       "      <th>19</th>\n",
       "      <td>age_group_unknown</td>\n",
       "      <td>0.000000</td>\n",
       "    </tr>\n",
       "    <tr>\n",
       "      <th>18</th>\n",
       "      <td>age_group_Unknown</td>\n",
       "      <td>0.000000</td>\n",
       "    </tr>\n",
       "    <tr>\n",
       "      <th>10</th>\n",
       "      <td>year</td>\n",
       "      <td>0.000000</td>\n",
       "    </tr>\n",
       "    <tr>\n",
       "      <th>5</th>\n",
       "      <td>Race_ethnicity_Native_Hawaiian_Other_Pacific_I...</td>\n",
       "      <td>0.000000</td>\n",
       "    </tr>\n",
       "    <tr>\n",
       "      <th>0</th>\n",
       "      <td>Race_ethnicity_Asian__Non_Hispanic</td>\n",
       "      <td>0.000000</td>\n",
       "    </tr>\n",
       "  </tbody>\n",
       "</table>\n",
       "</div>"
      ],
      "text/plain": [
       "                                             variable       imp\n",
       "21                                        hosp_yn_Yes  0.485372\n",
       "17                                age_group_80+ Years  0.287987\n",
       "16                                    age_group_60-79  0.079550\n",
       "20                                    hosp_yn_Unknown  0.039691\n",
       "8                                               month  0.031282\n",
       "14                                    age_group_20-39  0.013154\n",
       "15                                    age_group_40-59  0.012918\n",
       "9                                                 day  0.010633\n",
       "23                                         icu_yn_Yes  0.008054\n",
       "22                                     icu_yn_Unknown  0.007550\n",
       "6                              Race_ethnicity_Unknown  0.005820\n",
       "11                       current_status_Probable Case  0.004085\n",
       "24                                 medcond_yn_Unknown  0.003999\n",
       "25                                     medcond_yn_Yes  0.003620\n",
       "12                                           sex_Male  0.002788\n",
       "7                  Race_ethnicity_White__Non_Hispanic  0.002185\n",
       "2                      Race_ethnicity_Hispanic_Latino  0.000721\n",
       "1                  Race_ethnicity_Black__Non_Hispanic  0.000404\n",
       "3                              Race_ethnicity_Missing  0.000149\n",
       "4         Race_ethnicity_Multiple_Other__Non_Hispanic  0.000034\n",
       "13                                          sex_other  0.000002\n",
       "19                                  age_group_unknown  0.000000\n",
       "18                                  age_group_Unknown  0.000000\n",
       "10                                               year  0.000000\n",
       "5   Race_ethnicity_Native_Hawaiian_Other_Pacific_I...  0.000000\n",
       "0                  Race_ethnicity_Asian__Non_Hispanic  0.000000"
      ]
     },
     "execution_count": 76,
     "metadata": {},
     "output_type": "execute_result"
    }
   ],
   "source": [
    "important_feature=pd.DataFrame({\"variable\":x_train.columns,\n",
    "             \"imp\": dt_f.feature_importances_}).sort_values(by=\"imp\",ascending=False)\n",
    "important_feature"
   ]
  },
  {
   "cell_type": "code",
   "execution_count": 77,
   "id": "cf476dbc",
   "metadata": {},
   "outputs": [
    {
     "data": {
      "text/plain": [
       "array(['hosp_yn_Yes', 'age_group_80+ Years', 'age_group_60-79',\n",
       "       'hosp_yn_Unknown', 'month', 'age_group_20-39', 'age_group_40-59',\n",
       "       'day'], dtype=object)"
      ]
     },
     "execution_count": 77,
     "metadata": {},
     "output_type": "execute_result"
    }
   ],
   "source": [
    "important_feature[important_feature[\"imp\"]>0.01][\"variable\"].unique()"
   ]
  },
  {
   "cell_type": "code",
   "execution_count": 78,
   "id": "738a5efb",
   "metadata": {},
   "outputs": [],
   "source": [
    "x_train1=x_train[['hosp_yn_Yes', 'age_group_80+ Years', 'age_group_60-79',\n",
    "       'hosp_yn_Unknown', 'month', 'age_group_20-39', 'age_group_40-59']]\n",
    "x_test1=x_test[['hosp_yn_Yes', 'age_group_80+ Years', 'age_group_60-79',\n",
    "       'hosp_yn_Unknown', 'month', 'age_group_20-39', 'age_group_40-59']]"
   ]
  },
  {
   "cell_type": "code",
   "execution_count": 79,
   "id": "8343de65",
   "metadata": {},
   "outputs": [
    {
     "name": "stdout",
     "output_type": "stream",
     "text": [
      "train accuracy : 0.9\n",
      "test accuracy : 0.899\n"
     ]
    }
   ],
   "source": [
    "dt_f=DecisionTreeClassifier(criterion=\"entropy\",max_depth=11,\n",
    "                           min_samples_leaf=60,\n",
    "                           min_samples_split=5)\n",
    "dt_f.fit(x_train1,y_train)\n",
    "print(\"train accuracy :\", round(dt_f.score(x_train1,y_train),3))\n",
    "print(\"test accuracy :\",round(dt_f.score(x_test1,y_test),3))"
   ]
  },
  {
   "cell_type": "code",
   "execution_count": 80,
   "id": "53806fd9",
   "metadata": {},
   "outputs": [],
   "source": [
    "pred_train=dt_f.predict(x_train1)\n",
    "pred_test=dt_f.predict(x_test1)"
   ]
  },
  {
   "cell_type": "code",
   "execution_count": 81,
   "id": "db420cf1",
   "metadata": {},
   "outputs": [],
   "source": [
    "prob_train_1=dt_f.predict_proba(x_train1)[:,1]\n",
    "prob_test_1=dt_f.predict_proba(x_test1)[:,1]"
   ]
  },
  {
   "cell_type": "code",
   "execution_count": 82,
   "id": "a54d3edd",
   "metadata": {},
   "outputs": [],
   "source": [
    "def classification_eva(act,pred,probs):\n",
    "    ac1=metrics.accuracy_score(act,pred)\n",
    "    rc1=metrics.recall_score(act,pred)\n",
    "    pc1=metrics.precision_score(act,pred)\n",
    "    f1=metrics.f1_score(act,pred)\n",
    "    roc1=metrics.roc_auc_score(act,pred)\n",
    "    result={\"accuracy\":ac1, \"recall\":rc1, \"precision\":pc1,\"f1 score\":f1,\"auc\":roc1}\n",
    "    \n",
    "    fpr,tpr,threshold=metrics.roc_curve(act,probs)\n",
    "    plt.plot([0,1],[0,1],\"k--\")\n",
    "    plt.plot(fpr,tpr)\n",
    "    plt.xlabel(\"fpr\")\n",
    "    plt.ylabel(\"tpr\")\n",
    "    plt.show()\n",
    "    return result"
   ]
  },
  {
   "cell_type": "code",
   "execution_count": 83,
   "id": "5f029bb5",
   "metadata": {},
   "outputs": [
    {
     "data": {
      "image/png": "[encoded data removed]",
      "text/plain": [
       "<Figure size 432x288 with 1 Axes>"
      ]
     },
     "metadata": {
      "needs_background": "light"
     },
     "output_type": "display_data"
    },
    {
     "data": {
      "text/plain": [
       "{'accuracy': 0.9000217209172433,\n",
       " 'recall': 0.9069605298834101,\n",
       " 'precision': 0.8527879957752121,\n",
       " 'f1 score': 0.8790404324811353,\n",
       " 'auc': 0.9011728911808023}"
      ]
     },
     "execution_count": 83,
     "metadata": {},
     "output_type": "execute_result"
    }
   ],
   "source": [
    "classification_eva(y_train, pred_train, probs=prob_train_1)"
   ]
  },
  {
   "cell_type": "markdown",
   "id": "31cd61c3",
   "metadata": {},
   "source": [
    "### random forest"
   ]
  },
  {
   "cell_type": "code",
   "execution_count": 84,
   "id": "1db01b78",
   "metadata": {},
   "outputs": [],
   "source": [
    "from sklearn.ensemble import RandomForestClassifier"
   ]
  },
  {
   "cell_type": "code",
   "execution_count": 85,
   "id": "30cd1bc1",
   "metadata": {},
   "outputs": [
    {
     "data": {
      "text/plain": [
       "RandomForestClassifier()"
      ]
     },
     "execution_count": 85,
     "metadata": {},
     "output_type": "execute_result"
    }
   ],
   "source": [
    "rf=RandomForestClassifier()\n",
    "rf.fit(x_train,y_train)"
   ]
  },
  {
   "cell_type": "code",
   "execution_count": 86,
   "id": "5b0964d0",
   "metadata": {},
   "outputs": [
    {
     "name": "stdout",
     "output_type": "stream",
     "text": [
      "train accuracy : 0.9526173705278183\n",
      "test accuracy : 0.8954875377848571\n"
     ]
    }
   ],
   "source": [
    "print(\"train accuracy :\", rf.score(x_train, y_train))\n",
    "print(\"test accuracy :\", rf.score(x_test, y_test))"
   ]
  },
  {
   "cell_type": "code",
   "execution_count": null,
   "id": "6199001b",
   "metadata": {},
   "outputs": [
    {
     "name": "stdout",
     "output_type": "stream",
     "text": [
      "Fitting 5 folds for each of 384 candidates, totalling 1920 fits\n"
     ]
    }
   ],
   "source": [
    "import time\n",
    "tic=time.time()\n",
    "params={\"n_estimators\" :[100,150],\n",
    "       \"criterion\":[\"gini\",\"entropy\"],\n",
    "       \"max_depth\":[7,9,11,13],\n",
    "       \"min_samples_split\":[50,100,150],\n",
    "       \"min_samples_leaf\":[5,10,15,20],\n",
    "       \"max_features\":[\"sqrt\",\"log2\"],\n",
    "       \"bootstrap\":[True]\n",
    "       }\n",
    "rf1=RandomForestClassifier()\n",
    "gs_rf=GridSearchCV(estimator=rf1,param_grid=params,cv=5,n_jobs=-1,verbose=1)\n",
    "gs_rf.fit(x_train,y_train)\n",
    "toc=time.time()\n",
    "print(\"\\n total time taken\",toc-tic)"
   ]
  },
  {
   "cell_type": "code",
   "execution_count": null,
   "id": "11ce326e",
   "metadata": {},
   "outputs": [],
   "source": [
    "gs_rf.best_score_"
   ]
  },
  {
   "cell_type": "code",
   "execution_count": null,
   "id": "d96dc8da",
   "metadata": {},
   "outputs": [],
   "source": [
    "gs_rf.best_params_"
   ]
  },
  {
   "cell_type": "code",
   "execution_count": null,
   "id": "29b27eaf",
   "metadata": {},
   "outputs": [],
   "source": [
    "gs_rf.best_estimator_"
   ]
  },
  {
   "cell_type": "code",
   "execution_count": null,
   "id": "b6f273ee",
   "metadata": {},
   "outputs": [],
   "source": [
    "RandomForestClassifier(n_estimators=,criterion=,\n",
    "                      max_depth=,\n",
    "                      min_samples_split=,\n",
    "                      min_samples_leaf=,\n",
    "                      max_features=\"\",\n",
    "                      bootstrap=)"
   ]
  },
  {
   "cell_type": "code",
   "execution_count": null,
   "id": "a00f7885",
   "metadata": {},
   "outputs": [],
   "source": [
    "rff.fit(x_train,y_train)"
   ]
  },
  {
   "cell_type": "code",
   "execution_count": null,
   "id": "0b331bb0",
   "metadata": {},
   "outputs": [],
   "source": [
    "print(\"train accuracy :\",rff.score(x_train,y_train))\n",
    "print(\"test accuracy :\", rff.score(x_test,y_test))"
   ]
  },
  {
   "cell_type": "code",
   "execution_count": null,
   "id": "8ac94ded",
   "metadata": {},
   "outputs": [],
   "source": [
    "pd.DataFrame({\"var\":x_train.columns, \"imp\":rrf.feature_importances_}).sort_values(by=\"imp\",ascending=True)"
   ]
  },
  {
   "cell_type": "markdown",
   "id": "20935bb4",
   "metadata": {},
   "source": [
    "### model evaluation"
   ]
  },
  {
   "cell_type": "code",
   "execution_count": null,
   "id": "d59292e8",
   "metadata": {},
   "outputs": [],
   "source": [
    "pred_train=rff.predict(x_train)\n",
    "pred_test=rff.predict(x_test)\n"
   ]
  },
  {
   "cell_type": "code",
   "execution_count": null,
   "id": "f16a5427",
   "metadata": {},
   "outputs": [],
   "source": [
    "prob_train_1=rff.predict_proba(x_train)[:,1]\n",
    "prob_test_1= rff.prdict_proba(x_test)[:,1]"
   ]
  },
  {
   "cell_type": "code",
   "execution_count": null,
   "id": "35f47bfa",
   "metadata": {},
   "outputs": [],
   "source": [
    "classification_eva(act=y_train, pred=pred_train, probs=prob_train_1)"
   ]
  },
  {
   "cell_type": "code",
   "execution_count": null,
   "id": "cdf69660",
   "metadata": {},
   "outputs": [],
   "source": [
    "classification_eva(y_test,pred_test)"
   ]
  },
  {
   "cell_type": "code",
   "execution_count": null,
   "id": "ee8b8666",
   "metadata": {},
   "outputs": [],
   "source": []
  }
 ],
 "metadata": {
  "kernelspec": {
   "display_name": "Python 3 (ipykernel)",
   "language": "python",
   "name": "python3"
  },
  "language_info": {
   "codemirror_mode": {
    "name": "ipython",
    "version": 3
   },
   "file_extension": ".py",
   "mimetype": "text/x-python",
   "name": "python",
   "nbconvert_exporter": "python",
   "pygments_lexer": "ipython3",
   "version": "3.9.12"
  }
 },
 "nbformat": 4,
 "nbformat_minor": 5
}
